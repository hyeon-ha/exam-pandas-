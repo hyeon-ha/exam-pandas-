{
 "cells": [
  {
   "cell_type": "code",
   "execution_count": 9,
   "id": "54e7c707",
   "metadata": {},
   "outputs": [
    {
     "name": "stdout",
     "output_type": "stream",
     "text": [
      "<class 'int'>\n"
     ]
    }
   ],
   "source": [
    "int_number = 10\n",
    "float_number = 1.1\n",
    "print(type(int_number))"
   ]
  },
  {
   "cell_type": "code",
   "execution_count": 8,
   "id": "45897f0f",
   "metadata": {},
   "outputs": [],
   "source": [
    "var_str = 'Hello'"
   ]
  },
  {
   "cell_type": "code",
   "execution_count": 3,
   "id": "059519ec",
   "metadata": {},
   "outputs": [],
   "source": [
    "variable_list = [1,2,'Hello', 10.0, [1,2, 3], (4,5,6), {'name':'Tom', 'age':24}]\n"
   ]
  },
  {
   "cell_type": "code",
   "execution_count": 4,
   "id": "4005cf88",
   "metadata": {},
   "outputs": [],
   "source": [
    "variable_tuple = (1, 2, 'Hello')"
   ]
  },
  {
   "cell_type": "code",
   "execution_count": 5,
   "id": "94d5de53",
   "metadata": {},
   "outputs": [],
   "source": [
    "var_dic = {'name':'Tom', 'age':24}"
   ]
  },
  {
   "cell_type": "code",
   "execution_count": 6,
   "id": "4fd087b9",
   "metadata": {},
   "outputs": [],
   "source": [
    "var_set = set([1,2,3,3,3])"
   ]
  },
  {
   "cell_type": "code",
   "execution_count": 7,
   "id": "89392ca3",
   "metadata": {},
   "outputs": [],
   "source": [
    "var_bool = True"
   ]
  },
  {
   "cell_type": "code",
   "execution_count": null,
   "id": "dcfb4f96",
   "metadata": {},
   "outputs": [],
   "source": []
  }
 ],
 "metadata": {
  "kernelspec": {
   "display_name": "Python 3 (ipykernel)",
   "language": "python",
   "name": "python3"
  },
  "language_info": {
   "codemirror_mode": {
    "name": "ipython",
    "version": 3
   },
   "file_extension": ".py",
   "mimetype": "text/x-python",
   "name": "python",
   "nbconvert_exporter": "python",
   "pygments_lexer": "ipython3",
   "version": "3.7.11"
  }
 },
 "nbformat": 4,
 "nbformat_minor": 5
}
