{
 "cells": [
  {
   "cell_type": "code",
   "execution_count": 34,
   "id": "917ee9f1",
   "metadata": {},
   "outputs": [],
   "source": [
    "import pandas as pd"
   ]
  },
  {
   "cell_type": "code",
   "execution_count": 35,
   "id": "e7153135",
   "metadata": {},
   "outputs": [],
   "source": [
    "pd.set_option('display.unicode.east_asian_width', True)"
   ]
  },
  {
   "cell_type": "code",
   "execution_count": 36,
   "id": "269581a4",
   "metadata": {},
   "outputs": [
    {
     "name": "stdout",
     "output_type": "stream",
     "text": [
      "      수학  영어  음악  체육\n",
      "이름                        \n",
      "경석    90    98    85    80\n",
      "연주    85    88    79    79\n",
      "선희    70    95    78    75\n"
     ]
    }
   ],
   "source": [
    "exam_data = {'이름':['경석', '연주', '선희'],\n",
    "            '수학':[90, 85, 70],\n",
    "            '영어':[98, 88, 95],\n",
    "            '음악':[85, 79, 78],\n",
    "            '체육':[80, 79, 75]}\n",
    "df = pd.DataFrame(exam_data)\n",
    "df.set_index('이름', inplace=True)\n",
    "print(df)"
   ]
  },
  {
   "cell_type": "code",
   "execution_count": 37,
   "id": "db6a2d04",
   "metadata": {},
   "outputs": [
    {
     "name": "stdout",
     "output_type": "stream",
     "text": [
      "(3, 4)\n"
     ]
    }
   ],
   "source": [
    "print(df.shape)"
   ]
  },
  {
   "cell_type": "code",
   "execution_count": 38,
   "id": "7b263588",
   "metadata": {},
   "outputs": [
    {
     "name": "stdout",
     "output_type": "stream",
     "text": [
      "      수학  영어  음악  체육\n",
      "이름                        \n",
      "경석    90    98    85    90\n",
      "연주    85    88    79    79\n",
      "선희    70    95    78    75\n"
     ]
    }
   ],
   "source": [
    "df.iloc[0,3] = 90\n",
    "print(df)"
   ]
  },
  {
   "cell_type": "code",
   "execution_count": 39,
   "id": "f914b17e",
   "metadata": {},
   "outputs": [
    {
     "name": "stdout",
     "output_type": "stream",
     "text": [
      "      수학  영어  음악  체육\n",
      "이름                        \n",
      "경석    90    98    85   110\n",
      "연주    85    88    79    79\n",
      "선희    70    95    78    75\n"
     ]
    }
   ],
   "source": [
    "df.loc['경석', '체육'] = 110\n",
    "print(df)"
   ]
  },
  {
   "cell_type": "code",
   "execution_count": 40,
   "id": "b385b06d",
   "metadata": {},
   "outputs": [
    {
     "name": "stdout",
     "output_type": "stream",
     "text": [
      "      수학  영어  음악  체육\n",
      "이름                        \n",
      "경석    90    98   130   120\n",
      "연주    85    88    79    79\n",
      "선희    70    95    78    75\n"
     ]
    }
   ],
   "source": [
    "df.loc['경석', ['체육', '음악']] = 120, 130\n",
    "print(df)"
   ]
  },
  {
   "cell_type": "code",
   "execution_count": 41,
   "id": "1920d22a",
   "metadata": {},
   "outputs": [
    {
     "name": "stdout",
     "output_type": "stream",
     "text": [
      "이름  경석  연주  선희\n",
      "수학    90    85    70\n",
      "영어    98    88    95\n",
      "음악   130    79    78\n",
      "체육   120    79    75\n"
     ]
    }
   ],
   "source": [
    "df = df.transpose()\n",
    "print(df)"
   ]
  },
  {
   "cell_type": "code",
   "execution_count": 42,
   "id": "1e4c13a2",
   "metadata": {},
   "outputs": [
    {
     "name": "stdout",
     "output_type": "stream",
     "text": [
      "      수학  영어  음악  체육\n",
      "이름                        \n",
      "경석    90    98   130   120\n",
      "연주    85    88    79    79\n",
      "선희    70    95    78    75\n"
     ]
    }
   ],
   "source": [
    "df = df.T\n",
    "print(df)"
   ]
  },
  {
   "cell_type": "code",
   "execution_count": 43,
   "id": "c533987e",
   "metadata": {},
   "outputs": [
    {
     "name": "stdout",
     "output_type": "stream",
     "text": [
      "      수학  영어  음악  체육\n",
      "이름                        \n",
      "경석    90   120   130    98\n",
      "연주    85    88    79    79\n",
      "선희    70    95    78    75\n"
     ]
    }
   ],
   "source": [
    "df.loc['경석', '영어'], df.loc['경석', '체육'] = df.loc['경석', '체육'], df.loc['경석', '영어']\n",
    "print(df)"
   ]
  },
  {
   "cell_type": "code",
   "execution_count": 44,
   "id": "7d820281",
   "metadata": {},
   "outputs": [
    {
     "name": "stdout",
     "output_type": "stream",
     "text": [
      "      수학  영어  음악  체육\n",
      "이름                        \n",
      "경석    30    40    55    60\n",
      "연주    85    88    79    79\n",
      "선희    70    95    78    75\n"
     ]
    }
   ],
   "source": [
    "df.loc['경석'] = [30, 40, 55, 60]\n",
    "print(df)"
   ]
  },
  {
   "cell_type": "code",
   "execution_count": 45,
   "id": "1e950b6a",
   "metadata": {},
   "outputs": [
    {
     "name": "stdout",
     "output_type": "stream",
     "text": [
      "      수학  영어  체육\n",
      "음악                  \n",
      "55      30    40    60\n",
      "79      85    88    79\n",
      "78      70    95    75\n"
     ]
    }
   ],
   "source": [
    "ndf1 = df.set_index('음악')\n",
    "print(ndf1)"
   ]
  },
  {
   "cell_type": "code",
   "execution_count": 46,
   "id": "ef6a93f8",
   "metadata": {},
   "outputs": [
    {
     "name": "stdout",
     "output_type": "stream",
     "text": [
      "           음악  체육\n",
      "수학 영어            \n",
      "30   40      55    60\n",
      "85   88      79    79\n",
      "70   95      78    75\n"
     ]
    }
   ],
   "source": [
    "ndf2 = df.set_index(['수학', '영어'])\n",
    "print(ndf2)"
   ]
  },
  {
   "cell_type": "code",
   "execution_count": 47,
   "id": "a2d84553",
   "metadata": {},
   "outputs": [
    {
     "name": "stdout",
     "output_type": "stream",
     "text": [
      "   이름  수학  영어  음악  체육\n",
      "0  경석    30    40    55    60\n",
      "1  연주    85    88    79    79\n",
      "2  선희    70    95    78    75\n"
     ]
    }
   ],
   "source": [
    "ndf3 = df.reset_index()\n",
    "print(ndf3)"
   ]
  },
  {
   "cell_type": "code",
   "execution_count": 48,
   "id": "39b05392",
   "metadata": {},
   "outputs": [
    {
     "name": "stdout",
     "output_type": "stream",
     "text": [
      "      수학  영어  체육\n",
      "음악                  \n",
      "55      30    40    60\n",
      "79      85    88    79\n",
      "78      70    95    75\n"
     ]
    }
   ],
   "source": [
    "ndf3 = df.set_index(['음악'])\n",
    "print(ndf3)"
   ]
  },
  {
   "cell_type": "code",
   "execution_count": 49,
   "id": "f1035cb9",
   "metadata": {
    "scrolled": true
   },
   "outputs": [
    {
     "name": "stdout",
     "output_type": "stream",
     "text": [
      "      이름  수학  영어  체육\n",
      "음악                        \n",
      "55    경석    30    40    60\n",
      "79    연주    85    88    79\n",
      "78    선희    70    95    75\n"
     ]
    }
   ],
   "source": [
    "ndf4 = df.reset_index().set_index(['음악'])\n",
    "print(ndf4)"
   ]
  },
  {
   "cell_type": "code",
   "execution_count": 16,
   "id": "4e513273",
   "metadata": {},
   "outputs": [
    {
     "name": "stdout",
     "output_type": "stream",
     "text": [
      "      수학  영어  음악  체육\n",
      "이름                        \n",
      "경석    30    40    55    60\n",
      "연주    85    88    79    79\n",
      "선희    70    95    78    75\n",
      "Index(['경석', '연주', '선희'], dtype='object', name='이름')\n",
      "      수학  영어  음악  체육\n",
      "옥호    30    40    55    60\n",
      "민자    85    88    79    79\n",
      "영숙    70    95    78    75\n"
     ]
    }
   ],
   "source": [
    "print(df)\n",
    "print(df.index)\n",
    "df.index = ['옥호', '민자', '영숙']\n",
    "#df.index = ['옥호', '민자', '영숙', '영림']\n",
    "print(df)"
   ]
  },
  {
   "cell_type": "code",
   "execution_count": 17,
   "id": "2e912d31",
   "metadata": {},
   "outputs": [
    {
     "name": "stdout",
     "output_type": "stream",
     "text": [
      "      수학  영어  음악  체육\n",
      "옥호  30.0  40.0  55.0  60.0\n",
      "민자  85.0  88.0  79.0  79.0\n",
      "영숙  70.0  95.0  78.0  75.0\n",
      "덕유   NaN   NaN   NaN   NaN\n",
      "영림   NaN   NaN   NaN   NaN\n"
     ]
    }
   ],
   "source": [
    "new_index = ['옥호', '민자', '영숙', '덕유', '영림']\n",
    "ndf = df.reindex(new_index)\n",
    "print(ndf)"
   ]
  },
  {
   "cell_type": "code",
   "execution_count": 18,
   "id": "f83c7457",
   "metadata": {},
   "outputs": [
    {
     "name": "stdout",
     "output_type": "stream",
     "text": [
      "      수학  영어  음악  체육\n",
      "옥호    30    40    55    60\n",
      "민자    85    88    79    79\n",
      "영숙    70    95    78    75\n",
      "덕유     0     0     0     0\n",
      "영림     0     0     0     0\n"
     ]
    }
   ],
   "source": [
    "ndf = df.reindex(new_index, fill_value=0)\n",
    "print(ndf)"
   ]
  },
  {
   "cell_type": "code",
   "execution_count": 19,
   "id": "f275072e",
   "metadata": {},
   "outputs": [
    {
     "name": "stdout",
     "output_type": "stream",
     "text": [
      "      수학  영어  음악  체육\n",
      "옥호    30    40    55    60\n",
      "민자    85    88    79    79\n",
      "영숙    70    95    78    75\n",
      "      수학  영어  음악  체육\n",
      "민자    85    88    79    79\n",
      "영숙    70    95    78    75\n",
      "옥호    30    40    55    60\n"
     ]
    }
   ],
   "source": [
    "print(df)\n",
    "ndf = df.sort_index()\n",
    "print(ndf)"
   ]
  },
  {
   "cell_type": "code",
   "execution_count": 20,
   "id": "c0e131cf",
   "metadata": {},
   "outputs": [
    {
     "name": "stdout",
     "output_type": "stream",
     "text": [
      "      수학  영어  음악  체육\n",
      "옥호    30    40    55    60\n",
      "영숙    70    95    78    75\n",
      "민자    85    88    79    79\n"
     ]
    }
   ],
   "source": [
    "ndf = df.sort_index(ascending=False)\n",
    "print(ndf)"
   ]
  },
  {
   "cell_type": "code",
   "execution_count": 21,
   "id": "9f13105d",
   "metadata": {},
   "outputs": [
    {
     "name": "stdout",
     "output_type": "stream",
     "text": [
      "      수학  영어  음악  체육\n",
      "민자    85    88    79    79\n",
      "영숙    70    95    78    75\n",
      "옥호    30    40    55    60\n"
     ]
    }
   ],
   "source": [
    "ndf = df.sort_values(by='수학', ascending=False)\n",
    "print(ndf)"
   ]
  },
  {
   "cell_type": "code",
   "execution_count": 22,
   "id": "c76c40ca",
   "metadata": {},
   "outputs": [
    {
     "name": "stdout",
     "output_type": "stream",
     "text": [
      "국어    100\n",
      "영어     80\n",
      "수학     90\n",
      "dtype: int64\n"
     ]
    }
   ],
   "source": [
    "student1 = pd.Series({'국어':100, '영어':80, '수학':90})\n",
    "print(student1)"
   ]
  },
  {
   "cell_type": "code",
   "execution_count": 23,
   "id": "11a0c6ad",
   "metadata": {},
   "outputs": [
    {
     "name": "stdout",
     "output_type": "stream",
     "text": [
      "국어    1.0\n",
      "영어    0.8\n",
      "수학    0.9\n",
      "dtype: float64\n",
      "<class 'pandas.core.series.Series'>\n"
     ]
    }
   ],
   "source": [
    "percentage = student1 / 100\n",
    "print(percentage)\n",
    "print(type(percentage))"
   ]
  },
  {
   "cell_type": "code",
   "execution_count": 24,
   "id": "7689a355",
   "metadata": {},
   "outputs": [
    {
     "name": "stdout",
     "output_type": "stream",
     "text": [
      "영어     80\n",
      "국어    100\n",
      "수학     90\n",
      "dtype: int64\n"
     ]
    }
   ],
   "source": [
    "student2 = pd.Series({'영어':80, '국어':100, '수학':90})\n",
    "print(student2)"
   ]
  },
  {
   "cell_type": "code",
   "execution_count": 25,
   "id": "daee7858",
   "metadata": {},
   "outputs": [
    {
     "name": "stdout",
     "output_type": "stream",
     "text": [
      "국어    100\n",
      "영어     80\n",
      "수학     90\n",
      "dtype: int64\n",
      "영어     80\n",
      "국어    100\n",
      "수학     90\n",
      "dtype: int64\n",
      "국어    10000\n",
      "수학     8100\n",
      "영어     6400\n",
      "dtype: int64\n",
      "<class 'pandas.core.series.Series'>\n",
      "                    국어    수학    영어\n",
      "addition           200.0   180.0   160.0\n",
      "subtraction          0.0     0.0     0.0\n",
      "mulltiplication  10000.0  8100.0  6400.0\n",
      "division             1.0     1.0     1.0\n"
     ]
    }
   ],
   "source": [
    "print(student1)\n",
    "print(student2)\n",
    "addition = student1 + student2\n",
    "subtraction = student1 - student2\n",
    "multiplication = student1 * student2\n",
    "division = student1 / student2\n",
    "print(multiplication)\n",
    "print(type(multiplication))\n",
    "result = pd.DataFrame([addition, subtraction, multiplication, division],\n",
    "        index=['addition', 'subtraction', 'mulltiplication', 'division'])\n",
    "print(result)"
   ]
  },
  {
   "cell_type": "code",
   "execution_count": 26,
   "id": "216149ab",
   "metadata": {},
   "outputs": [],
   "source": [
    "student2.drop('영어', inplace=True)\n",
    "student1['국어'] = float('NaN')"
   ]
  },
  {
   "cell_type": "code",
   "execution_count": 27,
   "id": "b3b19c39",
   "metadata": {},
   "outputs": [
    {
     "name": "stdout",
     "output_type": "stream",
     "text": [
      "국어     NaN\n",
      "영어    80.0\n",
      "수학    90.0\n",
      "dtype: float64\n",
      "국어    100\n",
      "수학     90\n",
      "dtype: int64\n",
      "국어       NaN\n",
      "수학    8100.0\n",
      "영어       NaN\n",
      "dtype: float64\n",
      "<class 'pandas.core.series.Series'>\n",
      "                 국어    수학  영어\n",
      "addition          NaN   180.0   NaN\n",
      "subtraction       NaN     0.0   NaN\n",
      "mulltiplication   NaN  8100.0   NaN\n",
      "division          NaN     1.0   NaN\n"
     ]
    }
   ],
   "source": [
    "print(student1)\n",
    "print(student2)\n",
    "addition = student1 + student2\n",
    "subtraction = student1 - student2\n",
    "multiplication = student1 * student2\n",
    "division = student1 / student2\n",
    "print(multiplication)\n",
    "print(type(multiplication))\n",
    "result = pd.DataFrame([addition, subtraction, multiplication, division],\n",
    "        index=['addition', 'subtraction', 'mulltiplication', 'division'])\n",
    "print(result)"
   ]
  },
  {
   "cell_type": "code",
   "execution_count": 28,
   "id": "f008c3ad",
   "metadata": {},
   "outputs": [
    {
     "name": "stdout",
     "output_type": "stream",
     "text": [
      "국어     NaN\n",
      "영어    80.0\n",
      "수학    90.0\n",
      "dtype: float64\n",
      "국어    100\n",
      "수학     90\n",
      "dtype: int64\n",
      "국어     100.0\n",
      "수학    8100.0\n",
      "영어      80.0\n",
      "dtype: float64\n",
      "<class 'pandas.core.series.Series'>\n",
      "                   국어    수학  영어\n",
      "addition         100.00   180.0  80.0\n",
      "subtraction     -100.00     0.0  80.0\n",
      "mulltiplication  100.00  8100.0  80.0\n",
      "division           0.01     1.0  80.0\n"
     ]
    }
   ],
   "source": [
    "print(student1)\n",
    "print(student2)\n",
    "addition = student1.add(student2, fill_value=0)\n",
    "subtraction = student1.sub(student2, fill_value=0)\n",
    "multiplication = student1.mul(student2, fill_value=1)\n",
    "division = student1.div(student2, fill_value=1)\n",
    "print(multiplication)\n",
    "print(type(multiplication))\n",
    "result = pd.DataFrame([addition, subtraction, multiplication, division],\n",
    "        index=['addition', 'subtraction', 'mulltiplication', 'division'])\n",
    "print(result)"
   ]
  },
  {
   "cell_type": "code",
   "execution_count": 29,
   "id": "20a33d3e",
   "metadata": {},
   "outputs": [],
   "source": [
    "import seaborn as sns"
   ]
  },
  {
   "cell_type": "code",
   "execution_count": 30,
   "id": "a3d61c5f",
   "metadata": {},
   "outputs": [
    {
     "name": "stdout",
     "output_type": "stream",
     "text": [
      "<class 'pandas.core.frame.DataFrame'>\n",
      "     survived  pclass     sex   age  sibsp  parch     fare embarked   class  \\\n",
      "0           0       3    male  22.0      1      0   7.2500        S   Third   \n",
      "1           1       1  female  38.0      1      0  71.2833        C   First   \n",
      "2           1       3  female  26.0      0      0   7.9250        S   Third   \n",
      "3           1       1  female  35.0      1      0  53.1000        S   First   \n",
      "4           0       3    male  35.0      0      0   8.0500        S   Third   \n",
      "..        ...     ...     ...   ...    ...    ...      ...      ...     ...   \n",
      "886         0       2    male  27.0      0      0  13.0000        S  Second   \n",
      "887         1       1  female  19.0      0      0  30.0000        S   First   \n",
      "888         0       3  female   NaN      1      2  23.4500        S   Third   \n",
      "889         1       1    male  26.0      0      0  30.0000        C   First   \n",
      "890         0       3    male  32.0      0      0   7.7500        Q   Third   \n",
      "\n",
      "       who  adult_male deck  embark_town alive  alone  \n",
      "0      man        True  NaN  Southampton    no  False  \n",
      "1    woman       False    C    Cherbourg   yes  False  \n",
      "2    woman       False  NaN  Southampton   yes   True  \n",
      "3    woman       False    C  Southampton   yes  False  \n",
      "4      man        True  NaN  Southampton    no   True  \n",
      "..     ...         ...  ...          ...   ...    ...  \n",
      "886    man        True  NaN  Southampton    no   True  \n",
      "887  woman       False    B  Southampton   yes   True  \n",
      "888  woman       False  NaN  Southampton    no  False  \n",
      "889    man        True    C    Cherbourg   yes   True  \n",
      "890    man        True  NaN   Queenstown    no   True  \n",
      "\n",
      "[891 rows x 15 columns]\n"
     ]
    }
   ],
   "source": [
    "titanic = sns.load_dataset('titanic')\n",
    "print(type(titanic))\n",
    "print(titanic)"
   ]
  },
  {
   "cell_type": "code",
   "execution_count": 31,
   "id": "592e1d5a",
   "metadata": {},
   "outputs": [
    {
     "name": "stdout",
     "output_type": "stream",
     "text": [
      "    age     fare\n",
      "0  22.0   7.2500\n",
      "1  38.0  71.2833\n",
      "2  26.0   7.9250\n",
      "3  35.0  53.1000\n",
      "4  35.0   8.0500\n",
      "<class 'pandas.core.frame.DataFrame'>\n"
     ]
    }
   ],
   "source": [
    "df = titanic.loc[:, ['age', 'fare']]\n",
    "print(df.head())\n",
    "print(type(df))"
   ]
  },
  {
   "cell_type": "code",
   "execution_count": 32,
   "id": "8518a0f2",
   "metadata": {},
   "outputs": [
    {
     "name": "stdout",
     "output_type": "stream",
     "text": [
      "      age     fare\n",
      "0    32.0  17.2500\n",
      "1    48.0  81.2833\n",
      "2    36.0  17.9250\n",
      "3    45.0  63.1000\n",
      "4    45.0  18.0500\n",
      "..    ...      ...\n",
      "886  37.0  23.0000\n",
      "887  29.0  40.0000\n",
      "888   NaN  33.4500\n",
      "889  36.0  40.0000\n",
      "890  42.0  17.7500\n",
      "\n",
      "[891 rows x 2 columns]\n"
     ]
    }
   ],
   "source": [
    "addition = df + 10\n",
    "print(addition)"
   ]
  },
  {
   "cell_type": "code",
   "execution_count": 33,
   "id": "e148ae60",
   "metadata": {},
   "outputs": [
    {
     "name": "stdout",
     "output_type": "stream",
     "text": [
      "      age  fare\n",
      "0    10.0  10.0\n",
      "1    10.0  10.0\n",
      "2    10.0  10.0\n",
      "3    10.0  10.0\n",
      "4    10.0  10.0\n",
      "..    ...   ...\n",
      "886  10.0  10.0\n",
      "887  10.0  10.0\n",
      "888   NaN  10.0\n",
      "889  10.0  10.0\n",
      "890  10.0  10.0\n",
      "\n",
      "[891 rows x 2 columns]\n"
     ]
    }
   ],
   "source": [
    "subtraction = addition - df\n",
    "print(subtraction)"
   ]
  },
  {
   "cell_type": "code",
   "execution_count": null,
   "id": "54a1c286",
   "metadata": {},
   "outputs": [],
   "source": []
  }
 ],
 "metadata": {
  "kernelspec": {
   "display_name": "Python 3",
   "language": "python",
   "name": "python3"
  },
  "language_info": {
   "codemirror_mode": {
    "name": "ipython",
    "version": 3
   },
   "file_extension": ".py",
   "mimetype": "text/x-python",
   "name": "python",
   "nbconvert_exporter": "python",
   "pygments_lexer": "ipython3",
   "version": "3.8.8"
  }
 },
 "nbformat": 4,
 "nbformat_minor": 5
}
