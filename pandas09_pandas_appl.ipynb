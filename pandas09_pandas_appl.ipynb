{
 "cells": [
  {
   "cell_type": "code",
   "execution_count": 1,
   "id": "853b9be9",
   "metadata": {},
   "outputs": [],
   "source": [
    "import pandas as pd\n",
    "import seaborn as sns"
   ]
  },
  {
   "cell_type": "markdown",
   "id": "0a4ac93a",
   "metadata": {},
   "source": [
    "#Apply"
   ]
  },
  {
   "cell_type": "code",
   "execution_count": 2,
   "id": "4cecf368",
   "metadata": {},
   "outputs": [
    {
     "name": "stdout",
     "output_type": "stream",
     "text": [
      "    age     fare  ten\n",
      "0  22.0   7.2500   10\n",
      "1  38.0  71.2833   10\n",
      "2  26.0   7.9250   10\n",
      "3  35.0  53.1000   10\n",
      "4  35.0   8.0500   10\n"
     ]
    }
   ],
   "source": [
    "titanic = sns.load_dataset('titanic')\n",
    "df = titanic.loc[:, ['age', 'fare']]\n",
    "df['ten'] = 10\n",
    "print(df.head())"
   ]
  },
  {
   "cell_type": "code",
   "execution_count": 3,
   "id": "fb95ca6f",
   "metadata": {},
   "outputs": [],
   "source": [
    "def add_5(n):\n",
    "    return n + 5\n",
    "def mpg_to_kpl(mpg):\n",
    "    return mpg * 0.42514\n",
    "def add_two_obj(a, b):\n",
    "    return a + b"
   ]
  },
  {
   "cell_type": "code",
   "execution_count": 4,
   "id": "8eb02c72",
   "metadata": {},
   "outputs": [
    {
     "name": "stdout",
     "output_type": "stream",
     "text": [
      "0      4.2514\n",
      "1      4.2514\n",
      "2      4.2514\n",
      "3      4.2514\n",
      "4      4.2514\n",
      "        ...  \n",
      "886    4.2514\n",
      "887    4.2514\n",
      "888    4.2514\n",
      "889    4.2514\n",
      "890    4.2514\n",
      "Name: ten, Length: 891, dtype: float64\n"
     ]
    }
   ],
   "source": [
    "sr3 = df['ten'].apply(mpg_to_kpl)\n",
    "print(sr3)"
   ]
  },
  {
   "cell_type": "code",
   "execution_count": 5,
   "id": "4ea63074",
   "metadata": {},
   "outputs": [
    {
     "name": "stdout",
     "output_type": "stream",
     "text": [
      "0    27.0\n",
      "1    43.0\n",
      "2    31.0\n",
      "3    40.0\n",
      "4    40.0\n",
      "Name: age, dtype: float64\n",
      "0    22.0\n",
      "1    38.0\n",
      "2    26.0\n",
      "3    35.0\n",
      "4    35.0\n",
      "Name: age, dtype: float64\n"
     ]
    }
   ],
   "source": [
    "sr1 = df['age'].apply(add_5)\n",
    "print(sr1.head())\n",
    "print(df['age'].head())"
   ]
  },
  {
   "cell_type": "code",
   "execution_count": 6,
   "id": "67fe10ab",
   "metadata": {},
   "outputs": [
    {
     "name": "stdout",
     "output_type": "stream",
     "text": [
      "0      22\n",
      "1      38\n",
      "2      26\n",
      "3      35\n",
      "4      35\n",
      "       ..\n",
      "885    39\n",
      "886    27\n",
      "887    19\n",
      "889    26\n",
      "890    32\n",
      "Name: age, Length: 714, dtype: int32\n"
     ]
    }
   ],
   "source": [
    "\n",
    "sr3 = df['age'].dropna().astype('int')\n",
    "print(sr3)"
   ]
  },
  {
   "cell_type": "code",
   "execution_count": 7,
   "id": "e94c1097",
   "metadata": {},
   "outputs": [
    {
     "name": "stdout",
     "output_type": "stream",
     "text": [
      "0    32.0\n",
      "1    48.0\n",
      "2    36.0\n",
      "3    45.0\n",
      "4    45.0\n",
      "Name: age, dtype: float64\n",
      "<class 'pandas.core.series.Series'>\n"
     ]
    }
   ],
   "source": [
    "sr2 = df['age'].apply(add_two_obj, b=10)\n",
    "print(sr2.head())\n",
    "print(type(sr2))"
   ]
  },
  {
   "cell_type": "markdown",
   "id": "93521a40",
   "metadata": {},
   "source": [
    "#Column Order"
   ]
  },
  {
   "cell_type": "code",
   "execution_count": 8,
   "id": "4ba86c5a",
   "metadata": {},
   "outputs": [
    {
     "data": {
      "text/html": [
       "<div>\n",
       "<style scoped>\n",
       "    .dataframe tbody tr th:only-of-type {\n",
       "        vertical-align: middle;\n",
       "    }\n",
       "\n",
       "    .dataframe tbody tr th {\n",
       "        vertical-align: top;\n",
       "    }\n",
       "\n",
       "    .dataframe thead th {\n",
       "        text-align: right;\n",
       "    }\n",
       "</style>\n",
       "<table border=\"1\" class=\"dataframe\">\n",
       "  <thead>\n",
       "    <tr style=\"text-align: right;\">\n",
       "      <th></th>\n",
       "      <th>survived</th>\n",
       "      <th>pclass</th>\n",
       "      <th>sex</th>\n",
       "      <th>age</th>\n",
       "      <th>sibsp</th>\n",
       "      <th>parch</th>\n",
       "      <th>fare</th>\n",
       "      <th>embarked</th>\n",
       "      <th>class</th>\n",
       "      <th>who</th>\n",
       "      <th>adult_male</th>\n",
       "      <th>deck</th>\n",
       "      <th>embark_town</th>\n",
       "      <th>alive</th>\n",
       "      <th>alone</th>\n",
       "    </tr>\n",
       "  </thead>\n",
       "  <tbody>\n",
       "    <tr>\n",
       "      <th>0</th>\n",
       "      <td>0</td>\n",
       "      <td>3</td>\n",
       "      <td>male</td>\n",
       "      <td>22.0</td>\n",
       "      <td>1</td>\n",
       "      <td>0</td>\n",
       "      <td>7.2500</td>\n",
       "      <td>S</td>\n",
       "      <td>Third</td>\n",
       "      <td>man</td>\n",
       "      <td>True</td>\n",
       "      <td>NaN</td>\n",
       "      <td>Southampton</td>\n",
       "      <td>no</td>\n",
       "      <td>False</td>\n",
       "    </tr>\n",
       "    <tr>\n",
       "      <th>1</th>\n",
       "      <td>1</td>\n",
       "      <td>1</td>\n",
       "      <td>female</td>\n",
       "      <td>38.0</td>\n",
       "      <td>1</td>\n",
       "      <td>0</td>\n",
       "      <td>71.2833</td>\n",
       "      <td>C</td>\n",
       "      <td>First</td>\n",
       "      <td>woman</td>\n",
       "      <td>False</td>\n",
       "      <td>C</td>\n",
       "      <td>Cherbourg</td>\n",
       "      <td>yes</td>\n",
       "      <td>False</td>\n",
       "    </tr>\n",
       "    <tr>\n",
       "      <th>2</th>\n",
       "      <td>1</td>\n",
       "      <td>3</td>\n",
       "      <td>female</td>\n",
       "      <td>26.0</td>\n",
       "      <td>0</td>\n",
       "      <td>0</td>\n",
       "      <td>7.9250</td>\n",
       "      <td>S</td>\n",
       "      <td>Third</td>\n",
       "      <td>woman</td>\n",
       "      <td>False</td>\n",
       "      <td>NaN</td>\n",
       "      <td>Southampton</td>\n",
       "      <td>yes</td>\n",
       "      <td>True</td>\n",
       "    </tr>\n",
       "    <tr>\n",
       "      <th>3</th>\n",
       "      <td>1</td>\n",
       "      <td>1</td>\n",
       "      <td>female</td>\n",
       "      <td>35.0</td>\n",
       "      <td>1</td>\n",
       "      <td>0</td>\n",
       "      <td>53.1000</td>\n",
       "      <td>S</td>\n",
       "      <td>First</td>\n",
       "      <td>woman</td>\n",
       "      <td>False</td>\n",
       "      <td>C</td>\n",
       "      <td>Southampton</td>\n",
       "      <td>yes</td>\n",
       "      <td>False</td>\n",
       "    </tr>\n",
       "    <tr>\n",
       "      <th>4</th>\n",
       "      <td>0</td>\n",
       "      <td>3</td>\n",
       "      <td>male</td>\n",
       "      <td>35.0</td>\n",
       "      <td>0</td>\n",
       "      <td>0</td>\n",
       "      <td>8.0500</td>\n",
       "      <td>S</td>\n",
       "      <td>Third</td>\n",
       "      <td>man</td>\n",
       "      <td>True</td>\n",
       "      <td>NaN</td>\n",
       "      <td>Southampton</td>\n",
       "      <td>no</td>\n",
       "      <td>True</td>\n",
       "    </tr>\n",
       "  </tbody>\n",
       "</table>\n",
       "</div>"
      ],
      "text/plain": [
       "   survived  pclass     sex   age  sibsp  parch     fare embarked  class  \\\n",
       "0         0       3    male  22.0      1      0   7.2500        S  Third   \n",
       "1         1       1  female  38.0      1      0  71.2833        C  First   \n",
       "2         1       3  female  26.0      0      0   7.9250        S  Third   \n",
       "3         1       1  female  35.0      1      0  53.1000        S  First   \n",
       "4         0       3    male  35.0      0      0   8.0500        S  Third   \n",
       "\n",
       "     who  adult_male deck  embark_town alive  alone  \n",
       "0    man        True  NaN  Southampton    no  False  \n",
       "1  woman       False    C    Cherbourg   yes  False  \n",
       "2  woman       False  NaN  Southampton   yes   True  \n",
       "3  woman       False    C  Southampton   yes  False  \n",
       "4    man        True  NaN  Southampton    no   True  "
      ]
     },
     "execution_count": 8,
     "metadata": {},
     "output_type": "execute_result"
    }
   ],
   "source": [
    "titanic.head()"
   ]
  },
  {
   "cell_type": "code",
   "execution_count": 9,
   "id": "794ad729",
   "metadata": {},
   "outputs": [
    {
     "name": "stdout",
     "output_type": "stream",
     "text": [
      "   survived  pclass     sex   age\n",
      "0         0       3    male  22.0\n",
      "1         1       1  female  38.0\n",
      "2         1       3  female  26.0\n",
      "3         1       1  female  35.0\n",
      "4         0       3    male  35.0\n"
     ]
    }
   ],
   "source": [
    "df = titanic.loc[0:4, 'survived':'age']\n",
    "print(df)"
   ]
  },
  {
   "cell_type": "code",
   "execution_count": 10,
   "id": "02c9afcf",
   "metadata": {},
   "outputs": [
    {
     "name": "stdout",
     "output_type": "stream",
     "text": [
      "['survived' 'pclass' 'sex' 'age']\n",
      "<class 'numpy.ndarray'>\n",
      "<class 'pandas.core.indexes.base.Index'>\n",
      "<class 'list'>\n"
     ]
    }
   ],
   "source": [
    "print(df.columns.values)\n",
    "print(type(df.columns.values))\n",
    "print(type(df.columns))\n",
    "columns = list(df.columns.values)\n",
    "print(type(columns))"
   ]
  },
  {
   "cell_type": "code",
   "execution_count": 11,
   "id": "ee6bbf93",
   "metadata": {},
   "outputs": [
    {
     "name": "stdout",
     "output_type": "stream",
     "text": [
      "['survived', 'sex', 'pclass', 'age']\n",
      "   survived     sex  pclass   age\n",
      "0         0    male       3  22.0\n",
      "1         1  female       1  38.0\n",
      "2         1  female       3  26.0\n",
      "3         1  female       1  35.0\n",
      "4         0    male       3  35.0\n"
     ]
    }
   ],
   "source": [
    "columns_sorted = sorted(columns, reverse=True)\n",
    "print(columns_sorted)\n",
    "df_sorted = df[columns_sorted]\n",
    "print(df_sorted.head())"
   ]
  },
  {
   "cell_type": "code",
   "execution_count": 12,
   "id": "f124aaa8",
   "metadata": {},
   "outputs": [
    {
     "name": "stdout",
     "output_type": "stream",
     "text": [
      "   pclass     sex   age  survived\n",
      "0       3    male  22.0         0\n",
      "1       1  female  38.0         1\n",
      "2       3  female  26.0         1\n",
      "3       1  female  35.0         1\n",
      "4       3    male  35.0         0\n"
     ]
    }
   ],
   "source": [
    "columns_customed = ['pclass', 'sex', 'age', 'survived']\n",
    "df_customed = df[columns_customed]\n",
    "print(df_customed)"
   ]
  },
  {
   "cell_type": "markdown",
   "id": "d16a4ba6",
   "metadata": {},
   "source": [
    "#Filter"
   ]
  },
  {
   "cell_type": "code",
   "execution_count": 14,
   "id": "b1f8c5d4",
   "metadata": {},
   "outputs": [
    {
     "name": "stdout",
     "output_type": "stream",
     "text": [
      "     survived  pclass     sex   age  sibsp  parch      fare embarked   class  \\\n",
      "9           1       2  female  14.0      1      0   30.0708        C  Second   \n",
      "14          0       3  female  14.0      0      0    7.8542        S   Third   \n",
      "22          1       3  female  15.0      0      0    8.0292        Q   Third   \n",
      "27          0       1    male  19.0      3      2  263.0000        S   First   \n",
      "38          0       3  female  18.0      2      0   18.0000        S   Third   \n",
      "..        ...     ...     ...   ...    ...    ...       ...      ...     ...   \n",
      "853         1       1  female  16.0      0      1   39.4000        S   First   \n",
      "855         1       3  female  18.0      0      1    9.3500        S   Third   \n",
      "875         1       3  female  15.0      0      0    7.2250        C   Third   \n",
      "877         0       3    male  19.0      0      0    7.8958        S   Third   \n",
      "887         1       1  female  19.0      0      0   30.0000        S   First   \n",
      "\n",
      "       who  adult_male deck  embark_town alive  alone  \n",
      "9    child       False  NaN    Cherbourg   yes  False  \n",
      "14   child       False  NaN  Southampton    no   True  \n",
      "22   child       False  NaN   Queenstown   yes   True  \n",
      "27     man        True    C  Southampton    no  False  \n",
      "38   woman       False  NaN  Southampton    no  False  \n",
      "..     ...         ...  ...          ...   ...    ...  \n",
      "853  woman       False    D  Southampton   yes  False  \n",
      "855  woman       False  NaN  Southampton   yes  False  \n",
      "875  child       False  NaN    Cherbourg   yes   True  \n",
      "877    man        True  NaN  Southampton    no   True  \n",
      "887  woman       False    B  Southampton   yes   True  \n",
      "\n",
      "[102 rows x 15 columns]\n"
     ]
    }
   ],
   "source": [
    "df_teenage = titanic.loc[\n",
    "    (titanic.age >= 10) & (titanic.age < 20)]\n",
    "print(df_teenage)"
   ]
  },
  {
   "cell_type": "code",
   "execution_count": 18,
   "id": "3efc40fd",
   "metadata": {},
   "outputs": [
    {
     "name": "stdout",
     "output_type": "stream",
     "text": [
      "<class 'pandas.core.frame.DataFrame'>\n",
      "Int64Index: 102 entries, 9 to 887\n",
      "Data columns (total 15 columns):\n",
      " #   Column       Non-Null Count  Dtype   \n",
      "---  ------       --------------  -----   \n",
      " 0   survived     102 non-null    int64   \n",
      " 1   pclass       102 non-null    int64   \n",
      " 2   sex          102 non-null    object  \n",
      " 3   age          102 non-null    float64 \n",
      " 4   sibsp        102 non-null    int64   \n",
      " 5   parch        102 non-null    int64   \n",
      " 6   fare         102 non-null    float64 \n",
      " 7   embarked     102 non-null    object  \n",
      " 8   class        102 non-null    category\n",
      " 9   who          102 non-null    object  \n",
      " 10  adult_male   102 non-null    bool    \n",
      " 11  deck         19 non-null     category\n",
      " 12  embark_town  102 non-null    object  \n",
      " 13  alive        102 non-null    object  \n",
      " 14  alone        102 non-null    bool    \n",
      "dtypes: bool(2), category(2), float64(2), int64(4), object(5)\n",
      "memory usage: 10.4+ KB\n",
      "None\n",
      "41\n",
      "         survived      pclass         age       sibsp       parch        fare\n",
      "count  102.000000  102.000000  102.000000  102.000000  102.000000  102.000000\n",
      "mean     0.401961    2.470588   16.779412    0.666667    0.470588   32.535132\n",
      "std      0.492715    0.779767    2.263107    1.213238    0.779767   50.481289\n",
      "min      0.000000    1.000000   10.000000    0.000000    0.000000    0.000000\n",
      "25%      0.000000    2.000000   16.000000    0.000000    0.000000    7.895800\n",
      "50%      0.000000    3.000000   17.500000    0.000000    0.000000   11.500000\n",
      "75%      1.000000    3.000000   18.000000    1.000000    1.000000   30.053100\n",
      "max      1.000000    3.000000   19.000000    5.000000    3.000000  263.000000\n"
     ]
    }
   ],
   "source": [
    "print(df_teenage.info())\n",
    "print(df_teenage.survived.sum())\n",
    "print(df_teenage.describe())"
   ]
  },
  {
   "cell_type": "code",
   "execution_count": 26,
   "id": "183ec59f",
   "metadata": {},
   "outputs": [
    {
     "name": "stdout",
     "output_type": "stream",
     "text": [
      "<class 'pandas.core.frame.DataFrame'>\n",
      "Int64Index: 30 entries, 10 to 852\n",
      "Data columns (total 15 columns):\n",
      " #   Column       Non-Null Count  Dtype   \n",
      "---  ------       --------------  -----   \n",
      " 0   survived     30 non-null     int64   \n",
      " 1   pclass       30 non-null     int64   \n",
      " 2   sex          30 non-null     object  \n",
      " 3   age          30 non-null     float64 \n",
      " 4   sibsp        30 non-null     int64   \n",
      " 5   parch        30 non-null     int64   \n",
      " 6   fare         30 non-null     float64 \n",
      " 7   embarked     30 non-null     object  \n",
      " 8   class        30 non-null     category\n",
      " 9   who          30 non-null     object  \n",
      " 10  adult_male   30 non-null     bool    \n",
      " 11  deck         4 non-null      category\n",
      " 12  embark_town  30 non-null     object  \n",
      " 13  alive        30 non-null     object  \n",
      " 14  alone        30 non-null     bool    \n",
      "dtypes: bool(2), category(2), float64(2), int64(4), object(5)\n",
      "memory usage: 3.4+ KB\n",
      "None\n",
      "19\n"
     ]
    }
   ],
   "source": [
    "df_female_under10 = titanic.loc[\n",
    "    (titanic.age < 10) & (titanic.sex == 'female'), :]\n",
    "print(df_female_under10.info())\n",
    "print(df_female_under10.survived.sum())"
   ]
  },
  {
   "cell_type": "code",
   "execution_count": 27,
   "id": "3a93ff97",
   "metadata": {},
   "outputs": [
    {
     "name": "stdout",
     "output_type": "stream",
     "text": [
      "88\n",
      "45\n"
     ]
    }
   ],
   "source": [
    "df_under10_morethan60 = titanic.loc[\n",
    "    (titanic.age < 10) | (titanic.age >= 60), :]\n",
    "print(len(df_under10_morethan60))\n",
    "print(df_under10_morethan60.survived.sum())"
   ]
  },
  {
   "cell_type": "code",
   "execution_count": 30,
   "id": "8ce3d99f",
   "metadata": {},
   "outputs": [
    {
     "name": "stdout",
     "output_type": "stream",
     "text": [
      "891\n",
      "342\n"
     ]
    }
   ],
   "source": [
    "print(len(titanic))\n",
    "print(titanic.survived.sum())\n"
   ]
  },
  {
   "cell_type": "code",
   "execution_count": 43,
   "id": "61596a21",
   "metadata": {},
   "outputs": [
    {
     "name": "stdout",
     "output_type": "stream",
     "text": [
      "     survived  pclass     sex   age  sibsp  parch     fare embarked   class  \\\n",
      "68          1       3  female  17.0      4      2   7.9250        S   Third   \n",
      "183         1       2    male   1.0      2      1  39.0000        S  Second   \n",
      "233         1       3  female   5.0      4      2  31.3875        S   Third   \n",
      "261         1       3    male   3.0      4      2  31.3875        S   Third   \n",
      "301         1       3    male   NaN      2      0  23.2500        Q   Third   \n",
      "\n",
      "       who  adult_male deck  embark_town alive  alone  \n",
      "68   woman       False  NaN  Southampton   yes  False  \n",
      "183  child       False    F  Southampton   yes  False  \n",
      "233  child       False  NaN  Southampton   yes  False  \n",
      "261  child       False  NaN  Southampton   yes  False  \n",
      "301    man        True  NaN   Queenstown   yes  False  \n"
     ]
    }
   ],
   "source": [
    "mask1 = titanic.sibsp == 2\n",
    "mask2 = titanic.sibsp == 4\n",
    "mask3 = titanic.sibsp == 5\n",
    "df_boolean = titanic[(mask1 | mask2 | mask3) & (titanic.alive == 'yes')]\n",
    "print(df_boolean.head())"
   ]
  },
  {
   "cell_type": "code",
   "execution_count": 36,
   "id": "bd28d7c1",
   "metadata": {},
   "outputs": [
    {
     "name": "stdout",
     "output_type": "stream",
     "text": [
      "    survived  pclass     sex   age  sibsp  parch     fare embarked  class  \\\n",
      "16         0       3    male   2.0      4      1  29.1250        Q  Third   \n",
      "38         0       3  female  18.0      2      0  18.0000        S  Third   \n",
      "48         0       3    male   NaN      2      0  21.6792        C  Third   \n",
      "50         0       3    male   7.0      4      1  39.6875        S  Third   \n",
      "59         0       3    male  11.0      5      2  46.9000        S  Third   \n",
      "\n",
      "      who  adult_male deck  embark_town alive  alone  \n",
      "16  child       False  NaN   Queenstown    no  False  \n",
      "38  woman       False  NaN  Southampton    no  False  \n",
      "48    man        True  NaN    Cherbourg    no  False  \n",
      "50  child       False  NaN  Southampton    no  False  \n",
      "59  child       False  NaN  Southampton    no  False  \n",
      "[4 2 5]\n",
      "16\n"
     ]
    }
   ],
   "source": [
    "isin_filter = titanic.sibsp.isin([2,4,5])\n",
    "df_isin = titanic[isin_filter]\n",
    "print(df_isin.head())\n",
    "print(df_isin.sibsp.unique())\n",
    "print(df_isin.survived.sum())"
   ]
  },
  {
   "cell_type": "markdown",
   "id": "ed52c934",
   "metadata": {},
   "source": [
    "#Concat"
   ]
  },
  {
   "cell_type": "code",
   "execution_count": 44,
   "id": "69142ecc",
   "metadata": {},
   "outputs": [
    {
     "name": "stdout",
     "output_type": "stream",
     "text": [
      "    a   b   c\n",
      "0  a0  b0  c0\n",
      "1  a1  b1  c1\n",
      "2  a2  b2  c2\n",
      "3  a3  b3  c3\n",
      "    a   b   c   d\n",
      "2  a2  b2  c2  d2\n",
      "3  a3  b3  c3  d3\n",
      "4  a4  b4  c4  d4\n",
      "5  a5  b5  c5  d5\n"
     ]
    }
   ],
   "source": [
    "df1 = pd.DataFrame({\n",
    "    'a':['a0','a1','a2','a3'],\n",
    "    'b':['b0','b1','b2','b3'],\n",
    "    'c':['c0','c1','c2','c3']},\n",
    "    index=[0,1,2,3])\n",
    "df2 = pd.DataFrame({\n",
    "    'a':['a2','a3','a4','a5'],\n",
    "    'b':['b2','b3','b4','b5'],\n",
    "    'c':['c2','c3','c4','c5'],\n",
    "    'd':['d2','d3','d4','d5']},\n",
    "    index=[2,3,4,5])\n",
    "print(df1)\n",
    "print(df2)"
   ]
  },
  {
   "cell_type": "code",
   "execution_count": 45,
   "id": "3e8a66e1",
   "metadata": {},
   "outputs": [
    {
     "name": "stdout",
     "output_type": "stream",
     "text": [
      "    a   b   c    d\n",
      "0  a0  b0  c0  NaN\n",
      "1  a1  b1  c1  NaN\n",
      "2  a2  b2  c2  NaN\n",
      "3  a3  b3  c3  NaN\n",
      "2  a2  b2  c2   d2\n",
      "3  a3  b3  c3   d3\n",
      "4  a4  b4  c4   d4\n",
      "5  a5  b5  c5   d5\n"
     ]
    }
   ],
   "source": [
    "result1 = pd.concat([df1, df2])\n",
    "print(result1)"
   ]
  },
  {
   "cell_type": "code",
   "execution_count": 54,
   "id": "42c289a0",
   "metadata": {},
   "outputs": [
    {
     "name": "stdout",
     "output_type": "stream",
     "text": [
      "    a   b   c    d\n",
      "2  a2  b2  c2  NaN\n",
      "2  a2  b2  c2   d2\n",
      "a     a2\n",
      "b     b2\n",
      "c     c2\n",
      "d    NaN\n",
      "Name: 2, dtype: object\n"
     ]
    }
   ],
   "source": [
    "print(result1.loc[2])\n",
    "print(result1.iloc[2])"
   ]
  },
  {
   "cell_type": "code",
   "execution_count": 49,
   "id": "39898984",
   "metadata": {},
   "outputs": [
    {
     "name": "stdout",
     "output_type": "stream",
     "text": [
      "    a   b   c    d\n",
      "0  a0  b0  c0  NaN\n",
      "1  a1  b1  c1  NaN\n",
      "2  a2  b2  c2  NaN\n",
      "3  a3  b3  c3  NaN\n",
      "4  a2  b2  c2   d2\n",
      "5  a3  b3  c3   d3\n",
      "6  a4  b4  c4   d4\n",
      "7  a5  b5  c5   d5\n"
     ]
    }
   ],
   "source": [
    "result2 = pd.concat([df1, df2], ignore_index=True)\n",
    "print(result2)"
   ]
  },
  {
   "cell_type": "code",
   "execution_count": 55,
   "id": "48ac062e",
   "metadata": {},
   "outputs": [
    {
     "name": "stdout",
     "output_type": "stream",
     "text": [
      "a     a2\n",
      "b     b2\n",
      "c     c2\n",
      "d    NaN\n",
      "Name: 2, dtype: object\n",
      "a     a2\n",
      "b     b2\n",
      "c     c2\n",
      "d    NaN\n",
      "Name: 2, dtype: object\n"
     ]
    }
   ],
   "source": [
    "print(result2.loc[2])\n",
    "print(result2.iloc[2])"
   ]
  },
  {
   "cell_type": "code",
   "execution_count": 50,
   "id": "5df63ff7",
   "metadata": {},
   "outputs": [
    {
     "name": "stdout",
     "output_type": "stream",
     "text": [
      "     a    b    c    a    b    c    d\n",
      "0   a0   b0   c0  NaN  NaN  NaN  NaN\n",
      "1   a1   b1   c1  NaN  NaN  NaN  NaN\n",
      "2   a2   b2   c2   a2   b2   c2   d2\n",
      "3   a3   b3   c3   a3   b3   c3   d3\n",
      "4  NaN  NaN  NaN   a4   b4   c4   d4\n",
      "5  NaN  NaN  NaN   a5   b5   c5   d5\n"
     ]
    }
   ],
   "source": [
    "result3 = pd.concat([df1, df2], axis='columns')\n",
    "print(result3)"
   ]
  },
  {
   "cell_type": "code",
   "execution_count": 58,
   "id": "33082d12",
   "metadata": {},
   "outputs": [
    {
     "name": "stdout",
     "output_type": "stream",
     "text": [
      "    a   b   c   a   b   c   d\n",
      "2  a2  b2  c2  a2  b2  c2  d2\n",
      "3  a3  b3  c3  a3  b3  c3  d3\n"
     ]
    }
   ],
   "source": [
    "result4 = pd.concat([df1, df2], axis=1, join='inner')\n",
    "print(result4)"
   ]
  },
  {
   "cell_type": "code",
   "execution_count": 59,
   "id": "72fd953f",
   "metadata": {},
   "outputs": [
    {
     "name": "stdout",
     "output_type": "stream",
     "text": [
      "0    e0\n",
      "1    e1\n",
      "2    e2\n",
      "3    e3\n",
      "Name: e, dtype: object\n",
      "    a   b   c   e\n",
      "0  a0  b0  c0  e0\n",
      "1  a1  b1  c1  e1\n",
      "2  a2  b2  c2  e2\n",
      "3  a3  b3  c3  e3\n"
     ]
    }
   ],
   "source": [
    "sr1 = pd.Series(['e0', 'e1', 'e2', 'e3'], name='e')\n",
    "print(sr1)\n",
    "result5 = pd.concat([df1, sr1], axis=1)\n",
    "print(result5)"
   ]
  },
  {
   "cell_type": "code",
   "execution_count": 61,
   "id": "6bcd17b4",
   "metadata": {},
   "outputs": [
    {
     "name": "stdout",
     "output_type": "stream",
     "text": [
      "4    f0\n",
      "3    f1\n",
      "5    f2\n",
      "Name: f, dtype: object\n",
      "    a   b   c   d    f\n",
      "2  a2  b2  c2  d2  NaN\n",
      "3  a3  b3  c3  d3   f1\n",
      "4  a4  b4  c4  d4   f0\n",
      "5  a5  b5  c5  d5   f2\n"
     ]
    }
   ],
   "source": [
    "sr2 = pd.Series(['f0', 'f1', 'f2'], name='f', index=[4,3,5])\n",
    "print(sr2)\n",
    "result6 = pd.concat([df2, sr2], axis=1)\n",
    "print(result6)"
   ]
  },
  {
   "cell_type": "code",
   "execution_count": 62,
   "id": "a3bfa535",
   "metadata": {},
   "outputs": [
    {
     "name": "stdout",
     "output_type": "stream",
     "text": [
      "     e    f\n",
      "0   e0  NaN\n",
      "1   e1  NaN\n",
      "2   e2  NaN\n",
      "3   e3   f1\n",
      "4  NaN   f0\n",
      "5  NaN   f2\n",
      "<class 'pandas.core.frame.DataFrame'>\n"
     ]
    }
   ],
   "source": [
    "result7 = pd.concat([sr1, sr2], axis=1)\n",
    "print(result7)\n",
    "print(type(result7))"
   ]
  },
  {
   "cell_type": "code",
   "execution_count": 64,
   "id": "47670386",
   "metadata": {},
   "outputs": [
    {
     "name": "stdout",
     "output_type": "stream",
     "text": [
      "0    e0\n",
      "1    e1\n",
      "2    e2\n",
      "3    e3\n",
      "4    f0\n",
      "3    f1\n",
      "5    f2\n",
      "dtype: object\n",
      "<class 'pandas.core.series.Series'>\n"
     ]
    }
   ],
   "source": [
    "result8 = pd.concat([sr1, sr2], axis=0)\n",
    "print(result8)\n",
    "print(type(result8))"
   ]
  },
  {
   "cell_type": "markdown",
   "id": "814c5ee5",
   "metadata": {},
   "source": [
    "#Merge, Join"
   ]
  },
  {
   "cell_type": "code",
   "execution_count": 66,
   "id": "42aaca11",
   "metadata": {},
   "outputs": [],
   "source": [
    "pd.set_option('display.unicode.east_asian_width', True)\n",
    "pd.set_option('display.max_columns', 10)"
   ]
  },
  {
   "cell_type": "code",
   "execution_count": 67,
   "id": "61981b65",
   "metadata": {},
   "outputs": [
    {
     "name": "stdout",
     "output_type": "stream",
     "text": [
      "       id    stock_name          value   price\n",
      "0  128940      한미약품   59385.666667  421000\n",
      "1  130960        CJ E&M   58540.666667   98900\n",
      "2  138250    엔에스쇼핑   14558.666667   13200\n",
      "3  139480        이마트  239230.833333  254500\n",
      "4  142280  녹십자엠에스     468.833333   10200\n",
      "5  145990        삼양사   82750.000000   82000\n",
      "6  185750        종근당   40293.666667  100500\n",
      "7  192400    쿠쿠홀딩스  179204.666667  177500\n",
      "8  199800          툴젠   -2514.333333  115400\n",
      "9  204210  모두투어리츠    3093.333333    3475\n",
      "=================================================\n",
      "       id              name           eps     bps        per       pbr\n",
      "0  130960            CJ E&M   6301.333333   54068  15.695091  1.829178\n",
      "1  136480              하림    274.166667    3551  11.489362  0.887074\n",
      "2  138040    메리츠금융지주   2122.333333   14894   6.313806  0.899691\n",
      "3  139480            이마트  18268.166667  295780  13.931338  0.860437\n",
      "4  145990            삼양사   5741.000000  108090  14.283226  0.758627\n",
      "5  161390        한국타이어   5648.500000   51341   7.453306  0.820007\n",
      "6  181710   NHN엔터테인먼트   2110.166667   78434  30.755864  0.827447\n",
      "7  185750            종근당   3990.333333   40684  25.185866  2.470259\n",
      "8  204210      모두투어리츠     85.166667    5335  40.802348  0.651359\n",
      "9  207940  삼성바이오로직스   4644.166667   60099  89.790059  6.938551\n"
     ]
    }
   ],
   "source": [
    "df1 = pd.read_excel('../datasets/stock price.xlsx')\n",
    "df2 = pd.read_excel('../datasets/stock valuation.xlsx')\n",
    "print(df1)\n",
    "print('=================================================')\n",
    "print(df2)"
   ]
  },
  {
   "cell_type": "code",
   "execution_count": 68,
   "id": "953bde47",
   "metadata": {},
   "outputs": [
    {
     "name": "stdout",
     "output_type": "stream",
     "text": [
      "       id    stock_name          value   price          name           eps  \\\n",
      "0  130960        CJ E&M   58540.666667   98900        CJ E&M   6301.333333   \n",
      "1  139480        이마트  239230.833333  254500        이마트  18268.166667   \n",
      "2  145990        삼양사   82750.000000   82000        삼양사   5741.000000   \n",
      "3  185750        종근당   40293.666667  100500        종근당   3990.333333   \n",
      "4  204210  모두투어리츠    3093.333333    3475  모두투어리츠     85.166667   \n",
      "\n",
      "      bps        per       pbr  \n",
      "0   54068  15.695091  1.829178  \n",
      "1  295780  13.931338  0.860437  \n",
      "2  108090  14.283226  0.758627  \n",
      "3   40684  25.185866  2.470259  \n",
      "4    5335  40.802348  0.651359  \n"
     ]
    }
   ],
   "source": [
    "merge_inner = pd.merge(df1, df2)\n",
    "print(merge_inner)"
   ]
  },
  {
   "cell_type": "code",
   "execution_count": 69,
   "id": "06f48019",
   "metadata": {},
   "outputs": [
    {
     "name": "stdout",
     "output_type": "stream",
     "text": [
      "        id    stock_name          value     price              name  \\\n",
      "0   128940      한미약품   59385.666667  421000.0               NaN   \n",
      "1   130960        CJ E&M   58540.666667   98900.0            CJ E&M   \n",
      "2   138250    엔에스쇼핑   14558.666667   13200.0               NaN   \n",
      "3   139480        이마트  239230.833333  254500.0            이마트   \n",
      "4   142280  녹십자엠에스     468.833333   10200.0               NaN   \n",
      "5   145990        삼양사   82750.000000   82000.0            삼양사   \n",
      "6   185750        종근당   40293.666667  100500.0            종근당   \n",
      "7   192400    쿠쿠홀딩스  179204.666667  177500.0               NaN   \n",
      "8   199800          툴젠   -2514.333333  115400.0               NaN   \n",
      "9   204210  모두투어리츠    3093.333333    3475.0      모두투어리츠   \n",
      "10  136480           NaN            NaN       NaN              하림   \n",
      "11  138040           NaN            NaN       NaN    메리츠금융지주   \n",
      "12  161390           NaN            NaN       NaN        한국타이어   \n",
      "13  181710           NaN            NaN       NaN   NHN엔터테인먼트   \n",
      "14  207940           NaN            NaN       NaN  삼성바이오로직스   \n",
      "\n",
      "             eps       bps        per       pbr  \n",
      "0            NaN       NaN        NaN       NaN  \n",
      "1    6301.333333   54068.0  15.695091  1.829178  \n",
      "2            NaN       NaN        NaN       NaN  \n",
      "3   18268.166667  295780.0  13.931338  0.860437  \n",
      "4            NaN       NaN        NaN       NaN  \n",
      "5    5741.000000  108090.0  14.283226  0.758627  \n",
      "6    3990.333333   40684.0  25.185866  2.470259  \n",
      "7            NaN       NaN        NaN       NaN  \n",
      "8            NaN       NaN        NaN       NaN  \n",
      "9      85.166667    5335.0  40.802348  0.651359  \n",
      "10    274.166667    3551.0  11.489362  0.887074  \n",
      "11   2122.333333   14894.0   6.313806  0.899691  \n",
      "12   5648.500000   51341.0   7.453306  0.820007  \n",
      "13   2110.166667   78434.0  30.755864  0.827447  \n",
      "14   4644.166667   60099.0  89.790059  6.938551  \n"
     ]
    }
   ],
   "source": [
    "merge_outer = pd.merge(df1, df2, how='outer', on='id')\n",
    "print(merge_outer)"
   ]
  },
  {
   "cell_type": "code",
   "execution_count": 72,
   "id": "daf20314",
   "metadata": {},
   "outputs": [
    {
     "name": "stdout",
     "output_type": "stream",
     "text": [
      "       id    stock_name          value   price          name           eps  \\\n",
      "0  128940      한미약품   59385.666667  421000           NaN           NaN   \n",
      "1  130960        CJ E&M   58540.666667   98900        CJ E&M   6301.333333   \n",
      "2  138250    엔에스쇼핑   14558.666667   13200           NaN           NaN   \n",
      "3  139480        이마트  239230.833333  254500        이마트  18268.166667   \n",
      "4  142280  녹십자엠에스     468.833333   10200           NaN           NaN   \n",
      "5  145990        삼양사   82750.000000   82000        삼양사   5741.000000   \n",
      "6  185750        종근당   40293.666667  100500        종근당   3990.333333   \n",
      "7  192400    쿠쿠홀딩스  179204.666667  177500           NaN           NaN   \n",
      "8  199800          툴젠   -2514.333333  115400           NaN           NaN   \n",
      "9  204210  모두투어리츠    3093.333333    3475  모두투어리츠     85.166667   \n",
      "\n",
      "        bps        per       pbr  \n",
      "0       NaN        NaN       NaN  \n",
      "1   54068.0  15.695091  1.829178  \n",
      "2       NaN        NaN       NaN  \n",
      "3  295780.0  13.931338  0.860437  \n",
      "4       NaN        NaN       NaN  \n",
      "5  108090.0  14.283226  0.758627  \n",
      "6   40684.0  25.185866  2.470259  \n",
      "7       NaN        NaN       NaN  \n",
      "8       NaN        NaN       NaN  \n",
      "9    5335.0  40.802348  0.651359  \n"
     ]
    }
   ],
   "source": [
    "merge_left = pd.merge(df1, df2, how='left', on='id')\n",
    "print(merge_left)"
   ]
  },
  {
   "cell_type": "code",
   "execution_count": 73,
   "id": "618a621a",
   "metadata": {},
   "outputs": [
    {
     "name": "stdout",
     "output_type": "stream",
     "text": [
      "       id    stock_name          value     price              name  \\\n",
      "0  130960        CJ E&M   58540.666667   98900.0            CJ E&M   \n",
      "1  136480           NaN            NaN       NaN              하림   \n",
      "2  138040           NaN            NaN       NaN    메리츠금융지주   \n",
      "3  139480        이마트  239230.833333  254500.0            이마트   \n",
      "4  145990        삼양사   82750.000000   82000.0            삼양사   \n",
      "5  161390           NaN            NaN       NaN        한국타이어   \n",
      "6  181710           NaN            NaN       NaN   NHN엔터테인먼트   \n",
      "7  185750        종근당   40293.666667  100500.0            종근당   \n",
      "8  204210  모두투어리츠    3093.333333    3475.0      모두투어리츠   \n",
      "9  207940           NaN            NaN       NaN  삼성바이오로직스   \n",
      "\n",
      "            eps     bps        per       pbr  \n",
      "0   6301.333333   54068  15.695091  1.829178  \n",
      "1    274.166667    3551  11.489362  0.887074  \n",
      "2   2122.333333   14894   6.313806  0.899691  \n",
      "3  18268.166667  295780  13.931338  0.860437  \n",
      "4   5741.000000  108090  14.283226  0.758627  \n",
      "5   5648.500000   51341   7.453306  0.820007  \n",
      "6   2110.166667   78434  30.755864  0.827447  \n",
      "7   3990.333333   40684  25.185866  2.470259  \n",
      "8     85.166667    5335  40.802348  0.651359  \n",
      "9   4644.166667   60099  89.790059  6.938551  \n"
     ]
    }
   ],
   "source": [
    "merge_right = pd.merge(df1, df2, how='right', on='id')\n",
    "print(merge_right)"
   ]
  },
  {
   "cell_type": "code",
   "execution_count": 74,
   "id": "c97b4bfb",
   "metadata": {},
   "outputs": [
    {
     "name": "stdout",
     "output_type": "stream",
     "text": [
      "       id    stock_name         value  price\n",
      "2  138250    엔에스쇼핑  14558.666667  13200\n",
      "4  142280  녹십자엠에스    468.833333  10200\n",
      "9  204210  모두투어리츠   3093.333333   3475\n"
     ]
    }
   ],
   "source": [
    "price = df1[df1['price'] < 50000]\n",
    "print(price)"
   ]
  },
  {
   "cell_type": "code",
   "execution_count": 75,
   "id": "9cb23229",
   "metadata": {},
   "outputs": [
    {
     "name": "stdout",
     "output_type": "stream",
     "text": [
      "       id    stock_name        value  price          name        eps   bps  \\\n",
      "0  204210  모두투어리츠  3093.333333   3475  모두투어리츠  85.166667  5335   \n",
      "\n",
      "         per       pbr  \n",
      "0  40.802348  0.651359  \n"
     ]
    }
   ],
   "source": [
    "value = pd.merge(price, df2)\n",
    "print(value)"
   ]
  },
  {
   "cell_type": "code",
   "execution_count": 76,
   "id": "309fd8ae",
   "metadata": {},
   "outputs": [
    {
     "name": "stdout",
     "output_type": "stream",
     "text": [
      "       id    stock_name        value  price          name        eps   bps  \\\n",
      "0  204210  모두투어리츠  3093.333333   3475  모두투어리츠  85.166667  5335   \n",
      "\n",
      "         per       pbr  \n",
      "0  40.802348  0.651359  \n"
     ]
    }
   ],
   "source": [
    "value = pd.merge(df1[df1['price']<50000], df2)\n",
    "print(value)"
   ]
  },
  {
   "cell_type": "code",
   "execution_count": 77,
   "id": "adabad70",
   "metadata": {},
   "outputs": [],
   "source": [
    "df1.set_index('id', inplace=True)\n",
    "df2.set_index('id', inplace=True)"
   ]
  },
  {
   "cell_type": "code",
   "execution_count": 78,
   "id": "992be225",
   "metadata": {},
   "outputs": [
    {
     "name": "stdout",
     "output_type": "stream",
     "text": [
      "          stock_name          value   price          name           eps  \\\n",
      "id                                                                        \n",
      "128940      한미약품   59385.666667  421000           NaN           NaN   \n",
      "130960        CJ E&M   58540.666667   98900        CJ E&M   6301.333333   \n",
      "138250    엔에스쇼핑   14558.666667   13200           NaN           NaN   \n",
      "139480        이마트  239230.833333  254500        이마트  18268.166667   \n",
      "142280  녹십자엠에스     468.833333   10200           NaN           NaN   \n",
      "145990        삼양사   82750.000000   82000        삼양사   5741.000000   \n",
      "185750        종근당   40293.666667  100500        종근당   3990.333333   \n",
      "192400    쿠쿠홀딩스  179204.666667  177500           NaN           NaN   \n",
      "199800          툴젠   -2514.333333  115400           NaN           NaN   \n",
      "204210  모두투어리츠    3093.333333    3475  모두투어리츠     85.166667   \n",
      "\n",
      "             bps        per       pbr  \n",
      "id                                     \n",
      "128940       NaN        NaN       NaN  \n",
      "130960   54068.0  15.695091  1.829178  \n",
      "138250       NaN        NaN       NaN  \n",
      "139480  295780.0  13.931338  0.860437  \n",
      "142280       NaN        NaN       NaN  \n",
      "145990  108090.0  14.283226  0.758627  \n",
      "185750   40684.0  25.185866  2.470259  \n",
      "192400       NaN        NaN       NaN  \n",
      "199800       NaN        NaN       NaN  \n",
      "204210    5335.0  40.802348  0.651359  \n"
     ]
    }
   ],
   "source": [
    "df3 = df1.join(df2)\n",
    "print(df3)"
   ]
  },
  {
   "cell_type": "code",
   "execution_count": 79,
   "id": "c1f2fe30",
   "metadata": {},
   "outputs": [
    {
     "name": "stdout",
     "output_type": "stream",
     "text": [
      "          stock_name          value   price          name           eps  \\\n",
      "id                                                                        \n",
      "130960        CJ E&M   58540.666667   98900        CJ E&M   6301.333333   \n",
      "139480        이마트  239230.833333  254500        이마트  18268.166667   \n",
      "145990        삼양사   82750.000000   82000        삼양사   5741.000000   \n",
      "185750        종근당   40293.666667  100500        종근당   3990.333333   \n",
      "204210  모두투어리츠    3093.333333    3475  모두투어리츠     85.166667   \n",
      "\n",
      "           bps        per       pbr  \n",
      "id                                   \n",
      "130960   54068  15.695091  1.829178  \n",
      "139480  295780  13.931338  0.860437  \n",
      "145990  108090  14.283226  0.758627  \n",
      "185750   40684  25.185866  2.470259  \n",
      "204210    5335  40.802348  0.651359  \n"
     ]
    }
   ],
   "source": [
    "df3 = df1.join(df2, how='inner')\n",
    "print(df3)"
   ]
  },
  {
   "cell_type": "code",
   "execution_count": 80,
   "id": "681d888d",
   "metadata": {},
   "outputs": [
    {
     "name": "stdout",
     "output_type": "stream",
     "text": [
      "                    name           eps     bps        per       pbr  \\\n",
      "id                                                                    \n",
      "130960            CJ E&M   6301.333333   54068  15.695091  1.829178   \n",
      "136480              하림    274.166667    3551  11.489362  0.887074   \n",
      "138040    메리츠금융지주   2122.333333   14894   6.313806  0.899691   \n",
      "139480            이마트  18268.166667  295780  13.931338  0.860437   \n",
      "145990            삼양사   5741.000000  108090  14.283226  0.758627   \n",
      "161390        한국타이어   5648.500000   51341   7.453306  0.820007   \n",
      "181710   NHN엔터테인먼트   2110.166667   78434  30.755864  0.827447   \n",
      "185750            종근당   3990.333333   40684  25.185866  2.470259   \n",
      "204210      모두투어리츠     85.166667    5335  40.802348  0.651359   \n",
      "207940  삼성바이오로직스   4644.166667   60099  89.790059  6.938551   \n",
      "\n",
      "          stock_name          value     price  \n",
      "id                                             \n",
      "130960        CJ E&M   58540.666667   98900.0  \n",
      "136480           NaN            NaN       NaN  \n",
      "138040           NaN            NaN       NaN  \n",
      "139480        이마트  239230.833333  254500.0  \n",
      "145990        삼양사   82750.000000   82000.0  \n",
      "161390           NaN            NaN       NaN  \n",
      "181710           NaN            NaN       NaN  \n",
      "185750        종근당   40293.666667  100500.0  \n",
      "204210  모두투어리츠    3093.333333    3475.0  \n",
      "207940           NaN            NaN       NaN  \n"
     ]
    }
   ],
   "source": [
    "df4 = df2.join(df1)\n",
    "print(df4)"
   ]
  },
  {
   "cell_type": "markdown",
   "id": "2e21345b",
   "metadata": {},
   "source": [
    "#Group By"
   ]
  },
  {
   "cell_type": "code",
   "execution_count": 81,
   "id": "898dfcab",
   "metadata": {},
   "outputs": [
    {
     "name": "stdout",
     "output_type": "stream",
     "text": [
      "승객수 : 891\n",
      "    age     sex  class     fare  survived\n",
      "0  22.0    male  Third   7.2500         0\n",
      "1  38.0  female  First  71.2833         1\n",
      "2  26.0  female  Third   7.9250         1\n",
      "3  35.0  female  First  53.1000         1\n",
      "4  35.0    male  Third   8.0500         0\n"
     ]
    }
   ],
   "source": [
    "df = titanic.loc[:, ['age', 'sex', 'class',\n",
    "                    'fare', 'survived']]\n",
    "print('승객수 :', len(df))\n",
    "print(df.head())"
   ]
  },
  {
   "cell_type": "code",
   "execution_count": 83,
   "id": "e7afa03c",
   "metadata": {},
   "outputs": [
    {
     "name": "stdout",
     "output_type": "stream",
     "text": [
      "<pandas.core.groupby.generic.DataFrameGroupBy object at 0x0000020ABE617E88>\n",
      "[('First',       age     sex  class     fare  survived\n",
      "1    38.0  female  First  71.2833         1\n",
      "3    35.0  female  First  53.1000         1\n",
      "6    54.0    male  First  51.8625         0\n",
      "11   58.0  female  First  26.5500         1\n",
      "23   28.0    male  First  35.5000         1\n",
      "..    ...     ...    ...      ...       ...\n",
      "871  47.0  female  First  52.5542         1\n",
      "872  33.0    male  First   5.0000         0\n",
      "879  56.0  female  First  83.1583         1\n",
      "887  19.0  female  First  30.0000         1\n",
      "889  26.0    male  First  30.0000         1\n",
      "\n",
      "[216 rows x 5 columns]), ('Second',       age     sex   class     fare  survived\n",
      "9    14.0  female  Second  30.0708         1\n",
      "15   55.0  female  Second  16.0000         1\n",
      "17    NaN    male  Second  13.0000         1\n",
      "20   35.0    male  Second  26.0000         0\n",
      "21   34.0    male  Second  13.0000         1\n",
      "..    ...     ...     ...      ...       ...\n",
      "866  27.0  female  Second  13.8583         1\n",
      "874  28.0  female  Second  24.0000         1\n",
      "880  25.0  female  Second  26.0000         1\n",
      "883  28.0    male  Second  10.5000         0\n",
      "886  27.0    male  Second  13.0000         0\n",
      "\n",
      "[184 rows x 5 columns]), ('Third',       age     sex  class     fare  survived\n",
      "0    22.0    male  Third   7.2500         0\n",
      "2    26.0  female  Third   7.9250         1\n",
      "4    35.0    male  Third   8.0500         0\n",
      "5     NaN    male  Third   8.4583         0\n",
      "7     2.0    male  Third  21.0750         0\n",
      "..    ...     ...    ...      ...       ...\n",
      "882  22.0  female  Third  10.5167         0\n",
      "884  25.0    male  Third   7.0500         0\n",
      "885  39.0  female  Third  29.1250         0\n",
      "888   NaN  female  Third  23.4500         0\n",
      "890  32.0    male  Third   7.7500         0\n",
      "\n",
      "[491 rows x 5 columns])]\n"
     ]
    }
   ],
   "source": [
    "grouped = df.groupby(['class'])\n",
    "print(grouped)\n",
    "print(list(grouped))"
   ]
  },
  {
   "cell_type": "code",
   "execution_count": 84,
   "id": "0161eda5",
   "metadata": {},
   "outputs": [
    {
     "name": "stdout",
     "output_type": "stream",
     "text": [
      "key First\n",
      "승객수 216\n",
      "     age     sex  class     fare  survived\n",
      "1   38.0  female  First  71.2833         1\n",
      "3   35.0  female  First  53.1000         1\n",
      "6   54.0    male  First  51.8625         0\n",
      "11  58.0  female  First  26.5500         1\n",
      "23  28.0    male  First  35.5000         1\n",
      "key Second\n",
      "승객수 184\n",
      "     age     sex   class     fare  survived\n",
      "9   14.0  female  Second  30.0708         1\n",
      "15  55.0  female  Second  16.0000         1\n",
      "17   NaN    male  Second  13.0000         1\n",
      "20  35.0    male  Second  26.0000         0\n",
      "21  34.0    male  Second  13.0000         1\n",
      "key Third\n",
      "승객수 491\n",
      "    age     sex  class     fare  survived\n",
      "0  22.0    male  Third   7.2500         0\n",
      "2  26.0  female  Third   7.9250         1\n",
      "4  35.0    male  Third   8.0500         0\n",
      "5   NaN    male  Third   8.4583         0\n",
      "7   2.0    male  Third  21.0750         0\n"
     ]
    }
   ],
   "source": [
    "grouped_df = {}\n",
    "for key, group in grouped:\n",
    "    print('key', key)\n",
    "    print('승객수', len(group))\n",
    "    grouped_df[key] = group\n",
    "    print(group.head())"
   ]
  },
  {
   "cell_type": "code",
   "execution_count": 85,
   "id": "faed0dc0",
   "metadata": {},
   "outputs": [
    {
     "data": {
      "text/html": [
       "<div>\n",
       "<style scoped>\n",
       "    .dataframe tbody tr th:only-of-type {\n",
       "        vertical-align: middle;\n",
       "    }\n",
       "\n",
       "    .dataframe tbody tr th {\n",
       "        vertical-align: top;\n",
       "    }\n",
       "\n",
       "    .dataframe thead th {\n",
       "        text-align: right;\n",
       "    }\n",
       "</style>\n",
       "<table border=\"1\" class=\"dataframe\">\n",
       "  <thead>\n",
       "    <tr style=\"text-align: right;\">\n",
       "      <th></th>\n",
       "      <th>age</th>\n",
       "      <th>sex</th>\n",
       "      <th>class</th>\n",
       "      <th>fare</th>\n",
       "      <th>survived</th>\n",
       "    </tr>\n",
       "  </thead>\n",
       "  <tbody>\n",
       "    <tr>\n",
       "      <th>0</th>\n",
       "      <td>22.0</td>\n",
       "      <td>male</td>\n",
       "      <td>Third</td>\n",
       "      <td>7.2500</td>\n",
       "      <td>0</td>\n",
       "    </tr>\n",
       "    <tr>\n",
       "      <th>2</th>\n",
       "      <td>26.0</td>\n",
       "      <td>female</td>\n",
       "      <td>Third</td>\n",
       "      <td>7.9250</td>\n",
       "      <td>1</td>\n",
       "    </tr>\n",
       "    <tr>\n",
       "      <th>4</th>\n",
       "      <td>35.0</td>\n",
       "      <td>male</td>\n",
       "      <td>Third</td>\n",
       "      <td>8.0500</td>\n",
       "      <td>0</td>\n",
       "    </tr>\n",
       "    <tr>\n",
       "      <th>5</th>\n",
       "      <td>NaN</td>\n",
       "      <td>male</td>\n",
       "      <td>Third</td>\n",
       "      <td>8.4583</td>\n",
       "      <td>0</td>\n",
       "    </tr>\n",
       "    <tr>\n",
       "      <th>7</th>\n",
       "      <td>2.0</td>\n",
       "      <td>male</td>\n",
       "      <td>Third</td>\n",
       "      <td>21.0750</td>\n",
       "      <td>0</td>\n",
       "    </tr>\n",
       "    <tr>\n",
       "      <th>...</th>\n",
       "      <td>...</td>\n",
       "      <td>...</td>\n",
       "      <td>...</td>\n",
       "      <td>...</td>\n",
       "      <td>...</td>\n",
       "    </tr>\n",
       "    <tr>\n",
       "      <th>882</th>\n",
       "      <td>22.0</td>\n",
       "      <td>female</td>\n",
       "      <td>Third</td>\n",
       "      <td>10.5167</td>\n",
       "      <td>0</td>\n",
       "    </tr>\n",
       "    <tr>\n",
       "      <th>884</th>\n",
       "      <td>25.0</td>\n",
       "      <td>male</td>\n",
       "      <td>Third</td>\n",
       "      <td>7.0500</td>\n",
       "      <td>0</td>\n",
       "    </tr>\n",
       "    <tr>\n",
       "      <th>885</th>\n",
       "      <td>39.0</td>\n",
       "      <td>female</td>\n",
       "      <td>Third</td>\n",
       "      <td>29.1250</td>\n",
       "      <td>0</td>\n",
       "    </tr>\n",
       "    <tr>\n",
       "      <th>888</th>\n",
       "      <td>NaN</td>\n",
       "      <td>female</td>\n",
       "      <td>Third</td>\n",
       "      <td>23.4500</td>\n",
       "      <td>0</td>\n",
       "    </tr>\n",
       "    <tr>\n",
       "      <th>890</th>\n",
       "      <td>32.0</td>\n",
       "      <td>male</td>\n",
       "      <td>Third</td>\n",
       "      <td>7.7500</td>\n",
       "      <td>0</td>\n",
       "    </tr>\n",
       "  </tbody>\n",
       "</table>\n",
       "<p>491 rows × 5 columns</p>\n",
       "</div>"
      ],
      "text/plain": [
       "      age     sex  class     fare  survived\n",
       "0    22.0    male  Third   7.2500         0\n",
       "2    26.0  female  Third   7.9250         1\n",
       "4    35.0    male  Third   8.0500         0\n",
       "5     NaN    male  Third   8.4583         0\n",
       "7     2.0    male  Third  21.0750         0\n",
       "..    ...     ...    ...      ...       ...\n",
       "882  22.0  female  Third  10.5167         0\n",
       "884  25.0    male  Third   7.0500         0\n",
       "885  39.0  female  Third  29.1250         0\n",
       "888   NaN  female  Third  23.4500         0\n",
       "890  32.0    male  Third   7.7500         0\n",
       "\n",
       "[491 rows x 5 columns]"
      ]
     },
     "execution_count": 85,
     "metadata": {},
     "output_type": "execute_result"
    }
   ],
   "source": [
    "grouped_df['Third']"
   ]
  },
  {
   "cell_type": "code",
   "execution_count": 88,
   "id": "fdba2df1",
   "metadata": {},
   "outputs": [
    {
     "name": "stdout",
     "output_type": "stream",
     "text": [
      "              age       fare  survived\n",
      "class                                 \n",
      "First   38.233441  84.154687  0.629630\n",
      "Second  29.877630  20.662183  0.472826\n",
      "Third   25.140620  13.675550  0.242363\n",
      "<class 'pandas.core.frame.DataFrame'>\n"
     ]
    }
   ],
   "source": [
    "average = grouped.mean()\n",
    "print(average)\n",
    "print(type(average))"
   ]
  },
  {
   "cell_type": "code",
   "execution_count": 93,
   "id": "aa0314e8",
   "metadata": {},
   "outputs": [
    {
     "name": "stdout",
     "output_type": "stream",
     "text": [
      "     age     sex  class     fare  survived\n",
      "1   38.0  female  First  71.2833         1\n",
      "3   35.0  female  First  53.1000         1\n",
      "6   54.0    male  First  51.8625         0\n",
      "11  58.0  female  First  26.5500         1\n",
      "23  28.0    male  First  35.5000         1\n"
     ]
    }
   ],
   "source": [
    "df_First = grouped.get_group('First')\n",
    "print(df_First.head())"
   ]
  },
  {
   "cell_type": "code",
   "execution_count": 94,
   "id": "5a53f942",
   "metadata": {},
   "outputs": [
    {
     "name": "stdout",
     "output_type": "stream",
     "text": [
      "key ('First', 'female')\n",
      "승객수 94\n",
      "     age     sex  class      fare  survived\n",
      "1   38.0  female  First   71.2833         1\n",
      "3   35.0  female  First   53.1000         1\n",
      "11  58.0  female  First   26.5500         1\n",
      "31   NaN  female  First  146.5208         1\n",
      "52  49.0  female  First   76.7292         1\n",
      "key ('First', 'male')\n",
      "승객수 122\n",
      "     age   sex  class      fare  survived\n",
      "6   54.0  male  First   51.8625         0\n",
      "23  28.0  male  First   35.5000         1\n",
      "27  19.0  male  First  263.0000         0\n",
      "30  40.0  male  First   27.7208         0\n",
      "34  28.0  male  First   82.1708         0\n",
      "key ('Second', 'female')\n",
      "승객수 76\n",
      "     age     sex   class     fare  survived\n",
      "9   14.0  female  Second  30.0708         1\n",
      "15  55.0  female  Second  16.0000         1\n",
      "41  27.0  female  Second  21.0000         0\n",
      "43   3.0  female  Second  41.5792         1\n",
      "53  29.0  female  Second  26.0000         1\n",
      "key ('Second', 'male')\n",
      "승객수 108\n",
      "     age   sex   class  fare  survived\n",
      "17   NaN  male  Second  13.0         1\n",
      "20  35.0  male  Second  26.0         0\n",
      "21  34.0  male  Second  13.0         1\n",
      "33  66.0  male  Second  10.5         0\n",
      "70  32.0  male  Second  10.5         0\n",
      "key ('Third', 'female')\n",
      "승객수 144\n",
      "     age     sex  class     fare  survived\n",
      "2   26.0  female  Third   7.9250         1\n",
      "8   27.0  female  Third  11.1333         1\n",
      "10   4.0  female  Third  16.7000         1\n",
      "14  14.0  female  Third   7.8542         0\n",
      "18  31.0  female  Third  18.0000         0\n",
      "key ('Third', 'male')\n",
      "승객수 347\n",
      "     age   sex  class     fare  survived\n",
      "0   22.0  male  Third   7.2500         0\n",
      "4   35.0  male  Third   8.0500         0\n",
      "5    NaN  male  Third   8.4583         0\n",
      "7    2.0  male  Third  21.0750         0\n",
      "12  20.0  male  Third   8.0500         0\n"
     ]
    }
   ],
   "source": [
    "grouped_two = df.groupby(['class', 'sex'])\n",
    "for key, group in grouped_two:\n",
    "    print('key', key)\n",
    "    print('승객수', len(group))\n",
    "    print(group.head())"
   ]
  },
  {
   "cell_type": "code",
   "execution_count": 95,
   "id": "5d4ba6fc",
   "metadata": {},
   "outputs": [
    {
     "name": "stdout",
     "output_type": "stream",
     "text": [
      "                     age        fare  survived\n",
      "class  sex                                    \n",
      "First  female  34.611765  106.125798  0.968085\n",
      "       male    41.281386   67.226127  0.368852\n",
      "Second female  28.722973   21.970121  0.921053\n",
      "       male    30.740707   19.741782  0.157407\n",
      "Third  female  21.750000   16.118810  0.500000\n",
      "       male    26.507589   12.661633  0.135447\n",
      "<class 'pandas.core.frame.DataFrame'>\n"
     ]
    }
   ],
   "source": [
    "average_two = grouped_two.mean()\n",
    "print(average_two)\n",
    "print(type(average_two))"
   ]
  },
  {
   "cell_type": "code",
   "execution_count": 96,
   "id": "77163dfa",
   "metadata": {},
   "outputs": [
    {
     "name": "stdout",
     "output_type": "stream",
     "text": [
      "     age     sex  class     fare  survived\n",
      "2   26.0  female  Third   7.9250         1\n",
      "8   27.0  female  Third  11.1333         1\n",
      "10   4.0  female  Third  16.7000         1\n",
      "14  14.0  female  Third   7.8542         0\n",
      "18  31.0  female  Third  18.0000         0\n"
     ]
    }
   ],
   "source": [
    "group3f = grouped_two.get_group(('Third', 'female'))\n",
    "print(group3f.head())"
   ]
  },
  {
   "cell_type": "code",
   "execution_count": 97,
   "id": "868d18fd",
   "metadata": {},
   "outputs": [
    {
     "name": "stdout",
     "output_type": "stream",
     "text": [
      "              age       fare  survived\n",
      "class                                 \n",
      "First   14.802856  78.380373  0.484026\n",
      "Second  14.001077  13.417399  0.500623\n",
      "Third   12.495398  11.778142  0.428949\n"
     ]
    }
   ],
   "source": [
    "std_all = grouped.std()\n",
    "print(std_all)"
   ]
  },
  {
   "cell_type": "code",
   "execution_count": 98,
   "id": "4f3a372b",
   "metadata": {},
   "outputs": [
    {
     "name": "stdout",
     "output_type": "stream",
     "text": [
      "class\n",
      "First     78.380373\n",
      "Second    13.417399\n",
      "Third     11.778142\n",
      "Name: fare, dtype: float64\n"
     ]
    }
   ],
   "source": [
    "std_fare = grouped.std()['fare']\n",
    "print(std_fare)"
   ]
  },
  {
   "cell_type": "code",
   "execution_count": 100,
   "id": "c9895540",
   "metadata": {},
   "outputs": [
    {
     "name": "stdout",
     "output_type": "stream",
     "text": [
      "class\n",
      "First     78.380373\n",
      "Second    13.417399\n",
      "Third     11.778142\n",
      "Name: fare, dtype: float64\n"
     ]
    }
   ],
   "source": [
    "std_fare = grouped['fare'].std()\n",
    "print(std_fare)"
   ]
  },
  {
   "cell_type": "code",
   "execution_count": 99,
   "id": "e42984ff",
   "metadata": {},
   "outputs": [
    {
     "name": "stdout",
     "output_type": "stream",
     "text": [
      "class\n",
      "First     78.380373\n",
      "Second    13.417399\n",
      "Third     11.778142\n",
      "Name: fare, dtype: float64\n"
     ]
    }
   ],
   "source": [
    "std_fare = grouped.fare.std()\n",
    "print(std_fare)"
   ]
  },
  {
   "cell_type": "code",
   "execution_count": 102,
   "id": "e5c1d9e2",
   "metadata": {},
   "outputs": [
    {
     "name": "stdout",
     "output_type": "stream",
     "text": [
      "         age                  fare                      survived              \n",
      "         min   max       mean  min       max       mean      min max      mean\n",
      "class                                                                         \n",
      "First   0.92  80.0  38.233441  0.0  512.3292  84.154687        0   1  0.629630\n",
      "Second  0.67  70.0  29.877630  0.0   73.5000  20.662183        0   1  0.472826\n",
      "Third   0.42  74.0  25.140620  0.0   69.5500  13.675550        0   1  0.242363\n"
     ]
    }
   ],
   "source": [
    "agg_all = grouped.agg(['min', 'max', 'mean'])\n",
    "print(agg_all)"
   ]
  },
  {
   "cell_type": "code",
   "execution_count": 104,
   "id": "907ea45f",
   "metadata": {},
   "outputs": [
    {
     "name": "stdout",
     "output_type": "stream",
     "text": [
      "       fare                  age\n",
      "        min       max       mean\n",
      "class                           \n",
      "First   0.0  512.3292  38.233441\n",
      "Second  0.0   73.5000  29.877630\n",
      "Third   0.0   69.5500  25.140620\n"
     ]
    }
   ],
   "source": [
    "agg_sep = grouped.agg({'fare':['min','max'], 'age':'mean'})\n",
    "print(agg_sep)"
   ]
  },
  {
   "cell_type": "markdown",
   "id": "a6bf0fc4",
   "metadata": {},
   "source": [
    "#Multi index"
   ]
  },
  {
   "cell_type": "code",
   "execution_count": 105,
   "id": "1c9132f0",
   "metadata": {},
   "outputs": [
    {
     "name": "stdout",
     "output_type": "stream",
     "text": [
      "                     age        fare  survived\n",
      "class  sex                                    \n",
      "First  female  34.611765  106.125798  0.968085\n",
      "       male    41.281386   67.226127  0.368852\n",
      "Second female  28.722973   21.970121  0.921053\n",
      "       male    30.740707   19.741782  0.157407\n",
      "Third  female  21.750000   16.118810  0.500000\n",
      "       male    26.507589   12.661633  0.135447\n"
     ]
    }
   ],
   "source": [
    "print(average_two)"
   ]
  },
  {
   "cell_type": "code",
   "execution_count": 106,
   "id": "a135de5c",
   "metadata": {},
   "outputs": [
    {
     "name": "stdout",
     "output_type": "stream",
     "text": [
      "              age        fare  survived\n",
      "sex                                    \n",
      "female  34.611765  106.125798  0.968085\n",
      "male    41.281386   67.226127  0.368852\n"
     ]
    }
   ],
   "source": [
    "print(average_two.loc['First'])"
   ]
  },
  {
   "cell_type": "code",
   "execution_count": 107,
   "id": "f04dbfd9",
   "metadata": {},
   "outputs": [
    {
     "name": "stdout",
     "output_type": "stream",
     "text": [
      "age          34.611765\n",
      "fare        106.125798\n",
      "survived      0.968085\n",
      "Name: (First, female), dtype: float64\n"
     ]
    }
   ],
   "source": [
    "print(average_two.loc['First', 'female'])"
   ]
  },
  {
   "cell_type": "code",
   "execution_count": 111,
   "id": "243590d7",
   "metadata": {},
   "outputs": [
    {
     "name": "stdout",
     "output_type": "stream",
     "text": [
      "              age        fare  survived\n",
      "class                                  \n",
      "First   34.611765  106.125798  0.968085\n",
      "Second  28.722973   21.970121  0.921053\n",
      "Third   21.750000   16.118810  0.500000\n"
     ]
    }
   ],
   "source": [
    "print(average_two.xs('female', level='sex'))"
   ]
  },
  {
   "cell_type": "markdown",
   "id": "ec81bd4e",
   "metadata": {},
   "source": [
    "#Pivot table"
   ]
  },
  {
   "cell_type": "code",
   "execution_count": 112,
   "id": "49f3b2f5",
   "metadata": {},
   "outputs": [
    {
     "name": "stdout",
     "output_type": "stream",
     "text": [
      "    age     sex  class     fare  survived\n",
      "0  22.0    male  Third   7.2500         0\n",
      "1  38.0  female  First  71.2833         1\n",
      "2  26.0  female  Third   7.9250         1\n",
      "3  35.0  female  First  53.1000         1\n",
      "4  35.0    male  Third   8.0500         0\n"
     ]
    }
   ],
   "source": [
    "print(df.head())"
   ]
  },
  {
   "cell_type": "code",
   "execution_count": 116,
   "id": "50294a18",
   "metadata": {},
   "outputs": [
    {
     "name": "stdout",
     "output_type": "stream",
     "text": [
      "sex       female      male\n",
      "class                     \n",
      "First   0.968085  0.368852\n",
      "Second  0.921053  0.157407\n",
      "Third   0.500000  0.135447\n"
     ]
    }
   ],
   "source": [
    "pdf1 = pd.pivot_table(df,\n",
    "                     index='class',\n",
    "                     columns='sex',\n",
    "                     values='survived',\n",
    "                     aggfunc='mean')\n",
    "print(pdf1)"
   ]
  },
  {
   "cell_type": "code",
   "execution_count": 117,
   "id": "14a54bc1",
   "metadata": {},
   "outputs": [
    {
     "name": "stdout",
     "output_type": "stream",
     "text": [
      "              age                   fare           \n",
      "sex        female       male      female       male\n",
      "class                                              \n",
      "First   34.611765  41.281386  106.125798  67.226127\n",
      "Second  28.722973  30.740707   21.970121  19.741782\n",
      "Third   21.750000  26.507589   16.118810  12.661633\n"
     ]
    }
   ],
   "source": [
    "pdf2 = pd.pivot_table(df,\n",
    "                     index='class',\n",
    "                     columns='sex',\n",
    "                     values=['age', 'fare'],\n",
    "                     aggfunc='mean')\n",
    "print(pdf2)"
   ]
  },
  {
   "cell_type": "code",
   "execution_count": 118,
   "id": "d3bb1970",
   "metadata": {},
   "outputs": [
    {
     "name": "stdout",
     "output_type": "stream",
     "text": [
      "            mean                sum            std          \n",
      "        survived           survived       survived          \n",
      "sex       female      male   female male    female      male\n",
      "class                                                       \n",
      "First   0.968085  0.368852       91   45  0.176716  0.484484\n",
      "Second  0.921053  0.157407       70   17  0.271448  0.365882\n",
      "Third   0.500000  0.135447       72   47  0.501745  0.342694\n"
     ]
    }
   ],
   "source": [
    "pdf3 = pd.pivot_table(df,\n",
    "                     index='class',\n",
    "                     columns='sex',\n",
    "                     values=['survived'],\n",
    "                     aggfunc=['mean','sum', 'std'])\n",
    "print(pdf3)"
   ]
  },
  {
   "cell_type": "code",
   "execution_count": 119,
   "id": "fd64dfda",
   "metadata": {},
   "outputs": [
    {
     "name": "stdout",
     "output_type": "stream",
     "text": [
      "                    mean                                      max        \\\n",
      "                     age                   fare               age         \n",
      "survived               0          1           0           1     0     1   \n",
      "class  sex                                                                \n",
      "First  female  25.666667  34.939024  110.604167  105.978159  50.0  63.0   \n",
      "       male    44.581967  36.248000   62.894910   74.637320  71.0  80.0   \n",
      "Second female  36.000000  28.080882   18.250000   22.288989  57.0  55.0   \n",
      "       male    33.369048  16.022000   19.488965   21.095100  70.0  62.0   \n",
      "Third  female  23.818182  19.329787   19.773093   12.464526  48.0  63.0   \n",
      "       male    27.255814  22.274211   12.204469   15.579696  74.0  45.0   \n",
      "\n",
      "                                 \n",
      "                 fare            \n",
      "survived            0         1  \n",
      "class  sex                       \n",
      "First  female  151.55  512.3292  \n",
      "       male    263.00  512.3292  \n",
      "Second female   26.00   65.0000  \n",
      "       male     73.50   39.0000  \n",
      "Third  female   69.55   31.3875  \n",
      "       male     69.55   56.4958  \n"
     ]
    }
   ],
   "source": [
    "pdf4 = pd.pivot_table(df,\n",
    "         index=['class', 'sex'],\n",
    "         columns='survived',\n",
    "         values=['age', 'fare'],\n",
    "         aggfunc=['mean', 'max'])\n",
    "print(pdf4)"
   ]
  },
  {
   "cell_type": "code",
   "execution_count": 120,
   "id": "04412913",
   "metadata": {},
   "outputs": [
    {
     "name": "stdout",
     "output_type": "stream",
     "text": [
      "MultiIndex([( 'First', 'female'),\n",
      "            ( 'First',   'male'),\n",
      "            ('Second', 'female'),\n",
      "            ('Second',   'male'),\n",
      "            ( 'Third', 'female'),\n",
      "            ( 'Third',   'male')],\n",
      "           names=['class', 'sex'])\n"
     ]
    }
   ],
   "source": [
    "print(pdf4.index)"
   ]
  },
  {
   "cell_type": "code",
   "execution_count": 122,
   "id": "a97fbd7e",
   "metadata": {},
   "outputs": [
    {
     "name": "stdout",
     "output_type": "stream",
     "text": [
      "MultiIndex([('mean',  'age', 0),\n",
      "            ('mean',  'age', 1),\n",
      "            ('mean', 'fare', 0),\n",
      "            ('mean', 'fare', 1),\n",
      "            ( 'max',  'age', 0),\n",
      "            ( 'max',  'age', 1),\n",
      "            ( 'max', 'fare', 0),\n",
      "            ( 'max', 'fare', 1)],\n",
      "           names=[None, None, 'survived'])\n"
     ]
    }
   ],
   "source": [
    "print(pdf4.columns)"
   ]
  },
  {
   "cell_type": "code",
   "execution_count": 124,
   "id": "b346ee4e",
   "metadata": {},
   "outputs": [
    {
     "name": "stdout",
     "output_type": "stream",
     "text": [
      "               mean                                      max                \\\n",
      "                age                   fare               age          fare   \n",
      "survived          0          1           0           1     0     1       0   \n",
      "sex                                                                          \n",
      "female    25.666667  34.939024  110.604167  105.978159  50.0  63.0  151.55   \n",
      "male      44.581967  36.248000   62.894910   74.637320  71.0  80.0  263.00   \n",
      "\n",
      "                    \n",
      "                    \n",
      "survived         1  \n",
      "sex                 \n",
      "female    512.3292  \n",
      "male      512.3292  \n"
     ]
    }
   ],
   "source": [
    "print(pdf4.xs('First'))"
   ]
  },
  {
   "cell_type": "code",
   "execution_count": 125,
   "id": "76129d1d",
   "metadata": {},
   "outputs": [
    {
     "name": "stdout",
     "output_type": "stream",
     "text": [
      "            survived\n",
      "mean  age   0            25.666667\n",
      "            1            34.939024\n",
      "      fare  0           110.604167\n",
      "            1           105.978159\n",
      "max   age   0            50.000000\n",
      "            1            63.000000\n",
      "      fare  0           151.550000\n",
      "            1           512.329200\n",
      "Name: (First, female), dtype: float64\n"
     ]
    }
   ],
   "source": [
    "print(pdf4.xs(('First', 'female')))"
   ]
  },
  {
   "cell_type": "code",
   "execution_count": 126,
   "id": "cd722774",
   "metadata": {},
   "outputs": [
    {
     "name": "stdout",
     "output_type": "stream",
     "text": [
      "               mean                                      max                \\\n",
      "                age                   fare               age          fare   \n",
      "survived          0          1           0           1     0     1       0   \n",
      "class                                                                        \n",
      "First     25.666667  34.939024  110.604167  105.978159  50.0  63.0  151.55   \n",
      "Second    36.000000  28.080882   18.250000   22.288989  57.0  55.0   26.00   \n",
      "Third     23.818182  19.329787   19.773093   12.464526  48.0  63.0   69.55   \n",
      "\n",
      "                    \n",
      "                    \n",
      "survived         1  \n",
      "class               \n",
      "First     512.3292  \n",
      "Second     65.0000  \n",
      "Third      31.3875  \n"
     ]
    }
   ],
   "source": [
    "print(pdf4.xs('female',level='sex'))"
   ]
  },
  {
   "cell_type": "code",
   "execution_count": 127,
   "id": "b979b6e4",
   "metadata": {},
   "outputs": [
    {
     "name": "stdout",
     "output_type": "stream",
     "text": [
      "                     age                   fare            \n",
      "survived               0          1           0           1\n",
      "class  sex                                                 \n",
      "First  female  25.666667  34.939024  110.604167  105.978159\n",
      "       male    44.581967  36.248000   62.894910   74.637320\n",
      "Second female  36.000000  28.080882   18.250000   22.288989\n",
      "       male    33.369048  16.022000   19.488965   21.095100\n",
      "Third  female  23.818182  19.329787   19.773093   12.464526\n",
      "       male    27.255814  22.274211   12.204469   15.579696\n"
     ]
    }
   ],
   "source": [
    "print(pdf4.xs('mean', axis=1))"
   ]
  },
  {
   "cell_type": "code",
   "execution_count": 128,
   "id": "2bb9a117",
   "metadata": {},
   "outputs": [
    {
     "name": "stdout",
     "output_type": "stream",
     "text": [
      "survived               0          1\n",
      "class  sex                         \n",
      "First  female  25.666667  34.939024\n",
      "       male    44.581967  36.248000\n",
      "Second female  36.000000  28.080882\n",
      "       male    33.369048  16.022000\n",
      "Third  female  23.818182  19.329787\n",
      "       male    27.255814  22.274211\n"
     ]
    }
   ],
   "source": [
    "print(pdf4.xs(('mean', 'age'), axis=1))"
   ]
  },
  {
   "cell_type": "code",
   "execution_count": 129,
   "id": "c4538f1f",
   "metadata": {},
   "outputs": [
    {
     "name": "stdout",
     "output_type": "stream",
     "text": [
      "                    mean               max          \n",
      "                     age        fare   age      fare\n",
      "class  sex                                          \n",
      "First  female  34.939024  105.978159  63.0  512.3292\n",
      "       male    36.248000   74.637320  80.0  512.3292\n",
      "Second female  28.080882   22.288989  55.0   65.0000\n",
      "       male    16.022000   21.095100  62.0   39.0000\n",
      "Third  female  19.329787   12.464526  63.0   31.3875\n",
      "       male    22.274211   15.579696  45.0   56.4958\n"
     ]
    }
   ],
   "source": [
    "print(pdf4.xs(1, level='survived', axis=1))"
   ]
  },
  {
   "cell_type": "code",
   "execution_count": 135,
   "id": "2068a06e",
   "metadata": {},
   "outputs": [
    {
     "name": "stdout",
     "output_type": "stream",
     "text": [
      "                  max\n",
      "                 fare\n",
      "survived            0\n",
      "class  sex           \n",
      "First  female  151.55\n",
      "       male    263.00\n",
      "Second female   26.00\n",
      "       male     73.50\n",
      "Third  female   69.55\n",
      "       male     69.55\n"
     ]
    }
   ],
   "source": [
    "print(pdf4.xs(('max', 0,'fare'),\n",
    "             level=[0, 'survived', 1], axis=1))"
   ]
  }
 ],
 "metadata": {
  "kernelspec": {
   "display_name": "Python 3 (ipykernel)",
   "language": "python",
   "name": "python3"
  },
  "language_info": {
   "codemirror_mode": {
    "name": "ipython",
    "version": 3
   },
   "file_extension": ".py",
   "mimetype": "text/x-python",
   "name": "python",
   "nbconvert_exporter": "python",
   "pygments_lexer": "ipython3",
   "version": "3.7.11"
  }
 },
 "nbformat": 4,
 "nbformat_minor": 5
}
