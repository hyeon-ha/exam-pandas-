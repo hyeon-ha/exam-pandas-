{
 "cells": [
  {
   "cell_type": "code",
   "execution_count": 1,
   "id": "04aa1df0",
   "metadata": {},
   "outputs": [],
   "source": [
    "import pandas as pd\n",
    "import numpy as np\n",
    "import seaborn as sns\n",
    "from sklearn import preprocessing # scikit-learn 설치 모듈명"
   ]
  },
  {
   "cell_type": "code",
   "execution_count": 2,
   "id": "de84e6e5",
   "metadata": {},
   "outputs": [
    {
     "name": "stdout",
     "output_type": "stream",
     "text": [
      "   survived  pclass     sex   age  sibsp  parch     fare embarked  class  \\\n",
      "0         0       3    male  22.0      1      0   7.2500        S  Third   \n",
      "1         1       1  female  38.0      1      0  71.2833        C  First   \n",
      "2         1       3  female  26.0      0      0   7.9250        S  Third   \n",
      "3         1       1  female  35.0      1      0  53.1000        S  First   \n",
      "4         0       3    male  35.0      0      0   8.0500        S  Third   \n",
      "\n",
      "     who  adult_male deck  embark_town alive  alone  \n",
      "0    man        True  NaN  Southampton    no  False  \n",
      "1  woman       False    C    Cherbourg   yes  False  \n",
      "2  woman       False  NaN  Southampton   yes   True  \n",
      "3  woman       False    C  Southampton   yes  False  \n",
      "4    man        True  NaN  Southampton    no   True  \n"
     ]
    }
   ],
   "source": [
    "df = sns.load_dataset('titanic')\n",
    "print(df.head())"
   ]
  },
  {
   "cell_type": "code",
   "execution_count": 3,
   "id": "3547b26f",
   "metadata": {},
   "outputs": [
    {
     "name": "stdout",
     "output_type": "stream",
     "text": [
      "<class 'pandas.core.frame.DataFrame'>\n",
      "RangeIndex: 891 entries, 0 to 890\n",
      "Data columns (total 15 columns):\n",
      " #   Column       Non-Null Count  Dtype   \n",
      "---  ------       --------------  -----   \n",
      " 0   survived     891 non-null    int64   \n",
      " 1   pclass       891 non-null    int64   \n",
      " 2   sex          891 non-null    object  \n",
      " 3   age          714 non-null    float64 \n",
      " 4   sibsp        891 non-null    int64   \n",
      " 5   parch        891 non-null    int64   \n",
      " 6   fare         891 non-null    float64 \n",
      " 7   embarked     889 non-null    object  \n",
      " 8   class        891 non-null    category\n",
      " 9   who          891 non-null    object  \n",
      " 10  adult_male   891 non-null    bool    \n",
      " 11  deck         203 non-null    category\n",
      " 12  embark_town  889 non-null    object  \n",
      " 13  alive        891 non-null    object  \n",
      " 14  alone        891 non-null    bool    \n",
      "dtypes: bool(2), category(2), float64(2), int64(4), object(5)\n",
      "memory usage: 80.7+ KB\n",
      "None\n"
     ]
    }
   ],
   "source": [
    "print(df.info())"
   ]
  },
  {
   "cell_type": "markdown",
   "id": "146784af",
   "metadata": {},
   "source": [
    "##결측치 처리"
   ]
  },
  {
   "cell_type": "code",
   "execution_count": 4,
   "id": "36a22798",
   "metadata": {},
   "outputs": [
    {
     "name": "stdout",
     "output_type": "stream",
     "text": [
      "NaN    688\n",
      "C       59\n",
      "B       47\n",
      "D       33\n",
      "E       32\n",
      "A       15\n",
      "F       13\n",
      "G        4\n",
      "Name: deck, dtype: int64\n",
      "<class 'pandas.core.series.Series'>\n"
     ]
    }
   ],
   "source": [
    "nan_deck = df['deck'].value_counts(\n",
    "    dropna=False)\n",
    "print(nan_deck)\n",
    "print(type(nan_deck))"
   ]
  },
  {
   "cell_type": "code",
   "execution_count": 5,
   "id": "cbbe091f",
   "metadata": {},
   "outputs": [
    {
     "name": "stdout",
     "output_type": "stream",
     "text": [
      "   survived  pclass    sex    age  sibsp  parch   fare  embarked  class  \\\n",
      "0     False   False  False  False  False  False  False     False  False   \n",
      "1     False   False  False  False  False  False  False     False  False   \n",
      "2     False   False  False  False  False  False  False     False  False   \n",
      "3     False   False  False  False  False  False  False     False  False   \n",
      "4     False   False  False  False  False  False  False     False  False   \n",
      "\n",
      "     who  adult_male   deck  embark_town  alive  alone  \n",
      "0  False       False   True        False  False  False  \n",
      "1  False       False  False        False  False  False  \n",
      "2  False       False   True        False  False  False  \n",
      "3  False       False  False        False  False  False  \n",
      "4  False       False   True        False  False  False  \n"
     ]
    }
   ],
   "source": [
    "print(df.head().isnull())"
   ]
  },
  {
   "cell_type": "code",
   "execution_count": 6,
   "id": "39ae2817",
   "metadata": {},
   "outputs": [
    {
     "name": "stdout",
     "output_type": "stream",
     "text": [
      "   survived  pclass   sex   age  sibsp  parch  fare  embarked  class   who  \\\n",
      "0      True    True  True  True   True   True  True      True   True  True   \n",
      "1      True    True  True  True   True   True  True      True   True  True   \n",
      "2      True    True  True  True   True   True  True      True   True  True   \n",
      "3      True    True  True  True   True   True  True      True   True  True   \n",
      "4      True    True  True  True   True   True  True      True   True  True   \n",
      "\n",
      "   adult_male   deck  embark_town  alive  alone  \n",
      "0        True  False         True   True   True  \n",
      "1        True   True         True   True   True  \n",
      "2        True  False         True   True   True  \n",
      "3        True   True         True   True   True  \n",
      "4        True  False         True   True   True  \n"
     ]
    }
   ],
   "source": [
    "print(df.head().notnull())"
   ]
  },
  {
   "cell_type": "code",
   "execution_count": 7,
   "id": "4472f0c1",
   "metadata": {},
   "outputs": [
    {
     "name": "stdout",
     "output_type": "stream",
     "text": [
      "survived         0\n",
      "pclass           0\n",
      "sex              0\n",
      "age            177\n",
      "sibsp            0\n",
      "parch            0\n",
      "fare             0\n",
      "embarked         2\n",
      "class            0\n",
      "who              0\n",
      "adult_male       0\n",
      "deck           688\n",
      "embark_town      2\n",
      "alive            0\n",
      "alone            0\n",
      "dtype: int64\n"
     ]
    }
   ],
   "source": [
    "print(df.isnull().sum(axis=0))"
   ]
  },
  {
   "cell_type": "code",
   "execution_count": 8,
   "id": "abed7809",
   "metadata": {},
   "outputs": [
    {
     "name": "stdout",
     "output_type": "stream",
     "text": [
      "Index(['survived', 'pclass', 'sex', 'age', 'sibsp', 'parch', 'fare',\n",
      "       'embarked', 'class', 'who', 'adult_male', 'embark_town', 'alive',\n",
      "       'alone'],\n",
      "      dtype='object')\n"
     ]
    }
   ],
   "source": [
    "df.dropna(axis=1, thresh=500, inplace=True)\n",
    "print(df.columns)"
   ]
  },
  {
   "cell_type": "code",
   "execution_count": 9,
   "id": "eff0b514",
   "metadata": {},
   "outputs": [
    {
     "name": "stdout",
     "output_type": "stream",
     "text": [
      "714\n"
     ]
    }
   ],
   "source": [
    "df_age = df.dropna(subset=['age'],\n",
    "        how='any', axis=0)\n",
    "print(len(df_age))"
   ]
  },
  {
   "cell_type": "code",
   "execution_count": 10,
   "id": "70a0d7b7",
   "metadata": {},
   "outputs": [
    {
     "name": "stdout",
     "output_type": "stream",
     "text": [
      "<class 'pandas.core.frame.DataFrame'>\n",
      "RangeIndex: 891 entries, 0 to 890\n",
      "Data columns (total 14 columns):\n",
      " #   Column       Non-Null Count  Dtype   \n",
      "---  ------       --------------  -----   \n",
      " 0   survived     891 non-null    int64   \n",
      " 1   pclass       891 non-null    int64   \n",
      " 2   sex          891 non-null    object  \n",
      " 3   age          891 non-null    float64 \n",
      " 4   sibsp        891 non-null    int64   \n",
      " 5   parch        891 non-null    int64   \n",
      " 6   fare         891 non-null    float64 \n",
      " 7   embarked     889 non-null    object  \n",
      " 8   class        891 non-null    category\n",
      " 9   who          891 non-null    object  \n",
      " 10  adult_male   891 non-null    bool    \n",
      " 11  embark_town  889 non-null    object  \n",
      " 12  alive        891 non-null    object  \n",
      " 13  alone        891 non-null    bool    \n",
      "dtypes: bool(2), category(1), float64(2), int64(4), object(5)\n",
      "memory usage: 79.4+ KB\n",
      "None\n"
     ]
    }
   ],
   "source": [
    "mean_age = df['age'].mean(axis=0)\n",
    "df['age'].fillna(mean_age, inplace=True)\n",
    "print(df.info())"
   ]
  },
  {
   "cell_type": "code",
   "execution_count": 11,
   "id": "e40667e8",
   "metadata": {},
   "outputs": [
    {
     "name": "stdout",
     "output_type": "stream",
     "text": [
      "Southampton\n"
     ]
    }
   ],
   "source": [
    "most_freq = df['embark_town'].value_counts(dropna=True).idxmax()\n",
    "print(most_freq)"
   ]
  },
  {
   "cell_type": "code",
   "execution_count": 12,
   "id": "50c17691",
   "metadata": {},
   "outputs": [
    {
     "data": {
      "text/html": [
       "<div>\n",
       "<style scoped>\n",
       "    .dataframe tbody tr th:only-of-type {\n",
       "        vertical-align: middle;\n",
       "    }\n",
       "\n",
       "    .dataframe tbody tr th {\n",
       "        vertical-align: top;\n",
       "    }\n",
       "\n",
       "    .dataframe thead th {\n",
       "        text-align: right;\n",
       "    }\n",
       "</style>\n",
       "<table border=\"1\" class=\"dataframe\">\n",
       "  <thead>\n",
       "    <tr style=\"text-align: right;\">\n",
       "      <th></th>\n",
       "      <th>survived</th>\n",
       "      <th>pclass</th>\n",
       "      <th>sex</th>\n",
       "      <th>age</th>\n",
       "      <th>sibsp</th>\n",
       "      <th>parch</th>\n",
       "      <th>fare</th>\n",
       "      <th>embarked</th>\n",
       "      <th>class</th>\n",
       "      <th>who</th>\n",
       "      <th>adult_male</th>\n",
       "      <th>embark_town</th>\n",
       "      <th>alive</th>\n",
       "      <th>alone</th>\n",
       "    </tr>\n",
       "  </thead>\n",
       "  <tbody>\n",
       "    <tr>\n",
       "      <th>825</th>\n",
       "      <td>0</td>\n",
       "      <td>3</td>\n",
       "      <td>male</td>\n",
       "      <td>29.699118</td>\n",
       "      <td>0</td>\n",
       "      <td>0</td>\n",
       "      <td>6.9500</td>\n",
       "      <td>Q</td>\n",
       "      <td>Third</td>\n",
       "      <td>man</td>\n",
       "      <td>True</td>\n",
       "      <td>Queenstown</td>\n",
       "      <td>no</td>\n",
       "      <td>True</td>\n",
       "    </tr>\n",
       "    <tr>\n",
       "      <th>826</th>\n",
       "      <td>0</td>\n",
       "      <td>3</td>\n",
       "      <td>male</td>\n",
       "      <td>29.699118</td>\n",
       "      <td>0</td>\n",
       "      <td>0</td>\n",
       "      <td>56.4958</td>\n",
       "      <td>S</td>\n",
       "      <td>Third</td>\n",
       "      <td>man</td>\n",
       "      <td>True</td>\n",
       "      <td>Southampton</td>\n",
       "      <td>no</td>\n",
       "      <td>True</td>\n",
       "    </tr>\n",
       "    <tr>\n",
       "      <th>827</th>\n",
       "      <td>1</td>\n",
       "      <td>2</td>\n",
       "      <td>male</td>\n",
       "      <td>1.000000</td>\n",
       "      <td>0</td>\n",
       "      <td>2</td>\n",
       "      <td>37.0042</td>\n",
       "      <td>C</td>\n",
       "      <td>Second</td>\n",
       "      <td>child</td>\n",
       "      <td>False</td>\n",
       "      <td>Cherbourg</td>\n",
       "      <td>yes</td>\n",
       "      <td>False</td>\n",
       "    </tr>\n",
       "    <tr>\n",
       "      <th>828</th>\n",
       "      <td>1</td>\n",
       "      <td>3</td>\n",
       "      <td>male</td>\n",
       "      <td>29.699118</td>\n",
       "      <td>0</td>\n",
       "      <td>0</td>\n",
       "      <td>7.7500</td>\n",
       "      <td>Q</td>\n",
       "      <td>Third</td>\n",
       "      <td>man</td>\n",
       "      <td>True</td>\n",
       "      <td>Queenstown</td>\n",
       "      <td>yes</td>\n",
       "      <td>True</td>\n",
       "    </tr>\n",
       "    <tr>\n",
       "      <th>829</th>\n",
       "      <td>1</td>\n",
       "      <td>1</td>\n",
       "      <td>female</td>\n",
       "      <td>62.000000</td>\n",
       "      <td>0</td>\n",
       "      <td>0</td>\n",
       "      <td>80.0000</td>\n",
       "      <td>NaN</td>\n",
       "      <td>First</td>\n",
       "      <td>woman</td>\n",
       "      <td>False</td>\n",
       "      <td>NaN</td>\n",
       "      <td>yes</td>\n",
       "      <td>True</td>\n",
       "    </tr>\n",
       "  </tbody>\n",
       "</table>\n",
       "</div>"
      ],
      "text/plain": [
       "     survived  pclass     sex        age  sibsp  parch     fare embarked  \\\n",
       "825         0       3    male  29.699118      0      0   6.9500        Q   \n",
       "826         0       3    male  29.699118      0      0  56.4958        S   \n",
       "827         1       2    male   1.000000      0      2  37.0042        C   \n",
       "828         1       3    male  29.699118      0      0   7.7500        Q   \n",
       "829         1       1  female  62.000000      0      0  80.0000      NaN   \n",
       "\n",
       "      class    who  adult_male  embark_town alive  alone  \n",
       "825   Third    man        True   Queenstown    no   True  \n",
       "826   Third    man        True  Southampton    no   True  \n",
       "827  Second  child       False    Cherbourg   yes  False  \n",
       "828   Third    man        True   Queenstown   yes   True  \n",
       "829   First  woman       False          NaN   yes   True  "
      ]
     },
     "execution_count": 12,
     "metadata": {},
     "output_type": "execute_result"
    }
   ],
   "source": [
    "df[825:830]"
   ]
  },
  {
   "cell_type": "code",
   "execution_count": 13,
   "id": "757f3ab8",
   "metadata": {},
   "outputs": [
    {
     "name": "stdout",
     "output_type": "stream",
     "text": [
      "825     Queenstown\n",
      "826    Southampton\n",
      "827      Cherbourg\n",
      "828     Queenstown\n",
      "829    Southampton\n",
      "Name: embark_town, dtype: object\n"
     ]
    }
   ],
   "source": [
    "df_most_freq = df['embark_town'].fillna(most_freq, inplace=False)\n",
    "print(df_most_freq[825:830])"
   ]
  },
  {
   "cell_type": "code",
   "execution_count": 14,
   "id": "c3f2f7ba",
   "metadata": {},
   "outputs": [
    {
     "name": "stdout",
     "output_type": "stream",
     "text": [
      "825     Queenstown\n",
      "826    Southampton\n",
      "827      Cherbourg\n",
      "828     Queenstown\n",
      "829     Queenstown\n",
      "Name: embark_town, dtype: object\n"
     ]
    }
   ],
   "source": [
    "df['embark_town'].fillna(method='ffill', inplace=True)\n",
    "print(df['embark_town'][825:830])"
   ]
  },
  {
   "cell_type": "code",
   "execution_count": 15,
   "id": "d52da76e",
   "metadata": {},
   "outputs": [],
   "source": [
    "df['embarked'].fillna(method='ffill', inplace=True)"
   ]
  },
  {
   "cell_type": "code",
   "execution_count": 16,
   "id": "d6b21b30",
   "metadata": {},
   "outputs": [
    {
     "name": "stdout",
     "output_type": "stream",
     "text": [
      "survived       0\n",
      "pclass         0\n",
      "sex            0\n",
      "age            0\n",
      "sibsp          0\n",
      "parch          0\n",
      "fare           0\n",
      "embarked       0\n",
      "class          0\n",
      "who            0\n",
      "adult_male     0\n",
      "embark_town    0\n",
      "alive          0\n",
      "alone          0\n",
      "dtype: int64\n"
     ]
    }
   ],
   "source": [
    "print(df.isnull().sum(axis=0))"
   ]
  },
  {
   "cell_type": "markdown",
   "id": "b713be49",
   "metadata": {},
   "source": [
    "#중복값 처리"
   ]
  },
  {
   "cell_type": "code",
   "execution_count": 17,
   "id": "04a93736",
   "metadata": {},
   "outputs": [
    {
     "name": "stdout",
     "output_type": "stream",
     "text": [
      "  c1  c2  c3\n",
      "0  a   1   1\n",
      "1  a   1   1\n",
      "2  b   1   2\n",
      "3  a   2   2\n",
      "4  b   2   2\n"
     ]
    }
   ],
   "source": [
    "df = pd.DataFrame({\n",
    "    'c1':['a','a','b','a','b'],\n",
    "    'c2':[1,1,1,2,2],\n",
    "    'c3':[1,1,2,2,2]\n",
    "})\n",
    "print(df)"
   ]
  },
  {
   "cell_type": "code",
   "execution_count": 18,
   "id": "e15fed22",
   "metadata": {},
   "outputs": [
    {
     "name": "stdout",
     "output_type": "stream",
     "text": [
      "0    False\n",
      "1     True\n",
      "2    False\n",
      "3    False\n",
      "4    False\n",
      "dtype: bool\n"
     ]
    }
   ],
   "source": [
    "df_dup = df.duplicated()\n",
    "print(df_dup)"
   ]
  },
  {
   "cell_type": "code",
   "execution_count": 19,
   "id": "bc62f547",
   "metadata": {},
   "outputs": [
    {
     "name": "stdout",
     "output_type": "stream",
     "text": [
      "  c1  c2  c3\n",
      "0  a   1   1\n",
      "2  b   1   2\n",
      "3  a   2   2\n",
      "4  b   2   2\n"
     ]
    }
   ],
   "source": [
    "df2 = df.drop_duplicates()\n",
    "print(df2)"
   ]
  },
  {
   "cell_type": "code",
   "execution_count": 20,
   "id": "e9c93fb5",
   "metadata": {},
   "outputs": [
    {
     "name": "stdout",
     "output_type": "stream",
     "text": [
      "  c1  c2  c3\n",
      "0  a   1   1\n",
      "2  b   1   2\n",
      "3  a   2   2\n"
     ]
    }
   ],
   "source": [
    "df3 = df.drop_duplicates(subset=['c2', 'c3'])\n",
    "print(df3)"
   ]
  },
  {
   "cell_type": "markdown",
   "id": "eb54b350",
   "metadata": {},
   "source": [
    "#테이터 형태 변환"
   ]
  },
  {
   "cell_type": "code",
   "execution_count": 21,
   "id": "7ef405f7",
   "metadata": {},
   "outputs": [
    {
     "name": "stdout",
     "output_type": "stream",
     "text": [
      "    mpg  cylinders  displacement horsepower  weight  aceleration  model year  \\\n",
      "0  18.0          8         307.0      130.0  3504.0         12.0          70   \n",
      "1  15.0          8         350.0      165.0  3693.0         11.5          70   \n",
      "2  18.0          8         318.0      150.0  3436.0         11.0          70   \n",
      "3  16.0          8         304.0      150.0  3433.0         12.0          70   \n",
      "4  17.0          8         302.0      140.0  3449.0         10.5          70   \n",
      "\n",
      "   origin                       name  \n",
      "0       1  chevrolet chevelle malibu  \n",
      "1       1          buick skylark 320  \n",
      "2       1         plymouth satellite  \n",
      "3       1              amc rebel sst  \n",
      "4       1                ford torino  \n"
     ]
    }
   ],
   "source": [
    "df = pd.read_csv('../datasets/auto-mpg.csv',\n",
    "                 header=None)\n",
    "df.columns = ['mpg', 'cylinders', 'displacement',\n",
    "             'horsepower', 'weight', 'aceleration',\n",
    "             'model year', 'origin', 'name']\n",
    "print(df.head())"
   ]
  },
  {
   "cell_type": "code",
   "execution_count": 22,
   "id": "de18aa24",
   "metadata": {},
   "outputs": [
    {
     "name": "stdout",
     "output_type": "stream",
     "text": [
      "     mpg  cylinders  displacement horsepower  weight  aceleration  model year  \\\n",
      "0   18.0          8         307.0      130.0  3504.0         12.0          70   \n",
      "1   15.0          8         350.0      165.0  3693.0         11.5          70   \n",
      "2   18.0          8         318.0      150.0  3436.0         11.0          70   \n",
      "3   16.0          8         304.0      150.0  3433.0         12.0          70   \n",
      "4   17.0          8         302.0      140.0  3449.0         10.5          70   \n",
      "5   15.0          8         429.0      198.0  4341.0         10.0          70   \n",
      "6   14.0          8         454.0      220.0  4354.0          9.0          70   \n",
      "7   14.0          8         440.0      215.0  4312.0          8.5          70   \n",
      "8   14.0          8         455.0      225.0  4425.0         10.0          70   \n",
      "9   15.0          8         390.0      190.0  3850.0          8.5          70   \n",
      "10  15.0          8         383.0      170.0  3563.0         10.0          70   \n",
      "11  14.0          8         340.0      160.0  3609.0          8.0          70   \n",
      "12  15.0          8         400.0      150.0  3761.0          9.5          70   \n",
      "13  14.0          8         455.0      225.0  3086.0         10.0          70   \n",
      "14  24.0          4         113.0      95.00  2372.0         15.0          70   \n",
      "15  22.0          6         198.0      95.00  2833.0         15.5          70   \n",
      "16  18.0          6         199.0      97.00  2774.0         15.5          70   \n",
      "17  21.0          6         200.0      85.00  2587.0         16.0          70   \n",
      "18  27.0          4          97.0      88.00  2130.0         14.5          70   \n",
      "19  26.0          4          97.0      46.00  1835.0         20.5          70   \n",
      "20  25.0          4         110.0      87.00  2672.0         17.5          70   \n",
      "21  24.0          4         107.0      90.00  2430.0         14.5          70   \n",
      "22  25.0          4         104.0      95.00  2375.0         17.5          70   \n",
      "23  26.0          4         121.0      113.0  2234.0         12.5          70   \n",
      "24  21.0          6         199.0      90.00  2648.0         15.0          70   \n",
      "25  10.0          8         360.0      215.0  4615.0         14.0          70   \n",
      "26  10.0          8         307.0      200.0  4376.0         15.0          70   \n",
      "27  11.0          8         318.0      210.0  4382.0         13.5          70   \n",
      "28   9.0          8         304.0      193.0  4732.0         18.5          70   \n",
      "29  27.0          4          97.0      88.00  2130.0         14.5          71   \n",
      "\n",
      "    origin                          name       kpl  \n",
      "0        1     chevrolet chevelle malibu   7.65252  \n",
      "1        1             buick skylark 320   6.37710  \n",
      "2        1            plymouth satellite   7.65252  \n",
      "3        1                 amc rebel sst   6.80224  \n",
      "4        1                   ford torino   7.22738  \n",
      "5        1              ford galaxie 500   6.37710  \n",
      "6        1              chevrolet impala   5.95196  \n",
      "7        1             plymouth fury iii   5.95196  \n",
      "8        1              pontiac catalina   5.95196  \n",
      "9        1            amc ambassador dpl   6.37710  \n",
      "10       1           dodge challenger se   6.37710  \n",
      "11       1            plymouth 'cuda 340   5.95196  \n",
      "12       1         chevrolet monte carlo   6.37710  \n",
      "13       1       buick estate wagon (sw)   5.95196  \n",
      "14       3         toyota corona mark ii  10.20336  \n",
      "15       1               plymouth duster   9.35308  \n",
      "16       1                    amc hornet   7.65252  \n",
      "17       1                 ford maverick   8.92794  \n",
      "18       3                  datsun pl510  11.47878  \n",
      "19       2  volkswagen 1131 deluxe sedan  11.05364  \n",
      "20       2                   peugeot 504  10.62850  \n",
      "21       2                   audi 100 ls  10.20336  \n",
      "22       2                      saab 99e  10.62850  \n",
      "23       2                      bmw 2002  11.05364  \n",
      "24       1                   amc gremlin   8.92794  \n",
      "25       1                     ford f250   4.25140  \n",
      "26       1                     chevy c20   4.25140  \n",
      "27       1                    dodge d200   4.67654  \n",
      "28       1                      hi 1200d   3.82626  \n",
      "29       3                  datsun pl510  11.47878  \n"
     ]
    }
   ],
   "source": [
    "mpg_to_kpl_rate = 0.42514\n",
    "df['kpl'] = df['mpg'] * mpg_to_kpl_rate\n",
    "print(df.head(30))"
   ]
  },
  {
   "cell_type": "code",
   "execution_count": 23,
   "id": "ce52c72b",
   "metadata": {},
   "outputs": [
    {
     "name": "stdout",
     "output_type": "stream",
     "text": [
      "    mpg  cylinders  displacement horsepower  weight  aceleration  model year  \\\n",
      "0  18.0          8         307.0      130.0  3504.0         12.0          70   \n",
      "1  15.0          8         350.0      165.0  3693.0         11.5          70   \n",
      "2  18.0          8         318.0      150.0  3436.0         11.0          70   \n",
      "3  16.0          8         304.0      150.0  3433.0         12.0          70   \n",
      "4  17.0          8         302.0      140.0  3449.0         10.5          70   \n",
      "\n",
      "   origin                       name   kpl  \n",
      "0       1  chevrolet chevelle malibu  7.65  \n",
      "1       1          buick skylark 320  6.38  \n",
      "2       1         plymouth satellite  7.65  \n",
      "3       1              amc rebel sst  6.80  \n",
      "4       1                ford torino  7.23  \n"
     ]
    }
   ],
   "source": [
    "df['kpl'] = df['kpl'].round(2)\n",
    "print(df.head())"
   ]
  },
  {
   "cell_type": "code",
   "execution_count": 24,
   "id": "f5869ca0",
   "metadata": {},
   "outputs": [
    {
     "name": "stdout",
     "output_type": "stream",
     "text": [
      "<class 'pandas.core.frame.DataFrame'>\n",
      "RangeIndex: 398 entries, 0 to 397\n",
      "Data columns (total 10 columns):\n",
      " #   Column        Non-Null Count  Dtype  \n",
      "---  ------        --------------  -----  \n",
      " 0   mpg           398 non-null    float64\n",
      " 1   cylinders     398 non-null    int64  \n",
      " 2   displacement  398 non-null    float64\n",
      " 3   horsepower    398 non-null    object \n",
      " 4   weight        398 non-null    float64\n",
      " 5   aceleration   398 non-null    float64\n",
      " 6   model year    398 non-null    int64  \n",
      " 7   origin        398 non-null    int64  \n",
      " 8   name          398 non-null    object \n",
      " 9   kpl           398 non-null    float64\n",
      "dtypes: float64(5), int64(3), object(2)\n",
      "memory usage: 31.2+ KB\n",
      "None\n"
     ]
    }
   ],
   "source": [
    "print(df.info())"
   ]
  },
  {
   "cell_type": "code",
   "execution_count": 25,
   "id": "83cbed63",
   "metadata": {},
   "outputs": [
    {
     "name": "stdout",
     "output_type": "stream",
     "text": [
      "['130.0' '165.0' '150.0' '140.0' '198.0' '220.0' '215.0' '225.0' '190.0'\n",
      " '170.0' '160.0' '95.00' '97.00' '85.00' '88.00' '46.00' '87.00' '90.00'\n",
      " '113.0' '200.0' '210.0' '193.0' '?' '100.0' '105.0' '175.0' '153.0'\n",
      " '180.0' '110.0' '72.00' '86.00' '70.00' '76.00' '65.00' '69.00' '60.00'\n",
      " '80.00' '54.00' '208.0' '155.0' '112.0' '92.00' '145.0' '137.0' '158.0'\n",
      " '167.0' '94.00' '107.0' '230.0' '49.00' '75.00' '91.00' '122.0' '67.00'\n",
      " '83.00' '78.00' '52.00' '61.00' '93.00' '148.0' '129.0' '96.00' '71.00'\n",
      " '98.00' '115.0' '53.00' '81.00' '79.00' '120.0' '152.0' '102.0' '108.0'\n",
      " '68.00' '58.00' '149.0' '89.00' '63.00' '48.00' '66.00' '139.0' '103.0'\n",
      " '125.0' '133.0' '138.0' '135.0' '142.0' '77.00' '62.00' '132.0' '84.00'\n",
      " '64.00' '74.00' '116.0' '82.00']\n"
     ]
    }
   ],
   "source": [
    "print(df['horsepower'].unique())"
   ]
  },
  {
   "cell_type": "code",
   "execution_count": 26,
   "id": "3632e147",
   "metadata": {},
   "outputs": [
    {
     "name": "stdout",
     "output_type": "stream",
     "text": [
      "100.0    17\n",
      "102.0     1\n",
      "103.0     1\n",
      "105.0    12\n",
      "107.0     1\n",
      "         ..\n",
      "95.00    14\n",
      "96.00     3\n",
      "97.00     9\n",
      "98.00     2\n",
      "?         6\n",
      "Name: horsepower, Length: 94, dtype: int64\n"
     ]
    }
   ],
   "source": [
    "print(df['horsepower'].value_counts().sort_index())"
   ]
  },
  {
   "cell_type": "code",
   "execution_count": 27,
   "id": "bff3d2c8",
   "metadata": {},
   "outputs": [
    {
     "name": "stdout",
     "output_type": "stream",
     "text": [
      "<class 'pandas.core.frame.DataFrame'>\n",
      "Int64Index: 392 entries, 0 to 397\n",
      "Data columns (total 10 columns):\n",
      " #   Column        Non-Null Count  Dtype  \n",
      "---  ------        --------------  -----  \n",
      " 0   mpg           392 non-null    float64\n",
      " 1   cylinders     392 non-null    int64  \n",
      " 2   displacement  392 non-null    float64\n",
      " 3   horsepower    392 non-null    float64\n",
      " 4   weight        392 non-null    float64\n",
      " 5   aceleration   392 non-null    float64\n",
      " 6   model year    392 non-null    int64  \n",
      " 7   origin        392 non-null    int64  \n",
      " 8   name          392 non-null    object \n",
      " 9   kpl           392 non-null    float64\n",
      "dtypes: float64(6), int64(3), object(1)\n",
      "memory usage: 33.7+ KB\n",
      "None\n"
     ]
    }
   ],
   "source": [
    "df['horsepower'].replace('?', np.nan, inplace=True)\n",
    "df.dropna(subset=['horsepower'], axis=0, inplace=True)\n",
    "df['horsepower'] = df['horsepower'].astype('float')\n",
    "print(df.info())"
   ]
  },
  {
   "cell_type": "code",
   "execution_count": 28,
   "id": "876cebec",
   "metadata": {},
   "outputs": [
    {
     "name": "stdout",
     "output_type": "stream",
     "text": [
      "0      1\n",
      "1      1\n",
      "2      1\n",
      "3      1\n",
      "4      1\n",
      "      ..\n",
      "393    1\n",
      "394    2\n",
      "395    1\n",
      "396    1\n",
      "397    1\n",
      "Name: origin, Length: 392, dtype: int64\n"
     ]
    }
   ],
   "source": [
    "print(df['origin'])"
   ]
  },
  {
   "cell_type": "code",
   "execution_count": 29,
   "id": "58d843d2",
   "metadata": {},
   "outputs": [
    {
     "name": "stdout",
     "output_type": "stream",
     "text": [
      "[1 3 2]\n"
     ]
    }
   ],
   "source": [
    "print(df['origin'].unique())"
   ]
  },
  {
   "cell_type": "code",
   "execution_count": 30,
   "id": "11b0ab3c",
   "metadata": {},
   "outputs": [
    {
     "name": "stdout",
     "output_type": "stream",
     "text": [
      "['USA' 'JP' 'EU']\n",
      "object\n",
      "0      USA\n",
      "1      USA\n",
      "2      USA\n",
      "3      USA\n",
      "4      USA\n",
      "      ... \n",
      "393    USA\n",
      "394     EU\n",
      "395    USA\n",
      "396    USA\n",
      "397    USA\n",
      "Name: origin, Length: 392, dtype: object\n"
     ]
    }
   ],
   "source": [
    "df['origin'].replace({1:'USA', 2:'EU', 3:'JP'}, inplace=True)\n",
    "print(df['origin'].unique())\n",
    "print(df['origin'].dtypes)\n",
    "print(df['origin'])"
   ]
  },
  {
   "cell_type": "code",
   "execution_count": 31,
   "id": "a6144b64",
   "metadata": {},
   "outputs": [
    {
     "name": "stdout",
     "output_type": "stream",
     "text": [
      "category\n",
      "0      USA\n",
      "1      USA\n",
      "2      USA\n",
      "3      USA\n",
      "4      USA\n",
      "      ... \n",
      "393    USA\n",
      "394     EU\n",
      "395    USA\n",
      "396    USA\n",
      "397    USA\n",
      "Name: origin, Length: 392, dtype: category\n",
      "Categories (3, object): ['EU', 'JP', 'USA']\n"
     ]
    }
   ],
   "source": [
    "df['origin'] = df['origin'].astype('category')\n",
    "print(df['origin'].dtypes)\n",
    "print(df['origin'])"
   ]
  },
  {
   "cell_type": "code",
   "execution_count": 32,
   "id": "e8d15817",
   "metadata": {},
   "outputs": [
    {
     "name": "stdout",
     "output_type": "stream",
     "text": [
      "object\n",
      "0      USA\n",
      "1      USA\n",
      "2      USA\n",
      "3      USA\n",
      "4      USA\n",
      "      ... \n",
      "393    USA\n",
      "394     EU\n",
      "395    USA\n",
      "396    USA\n",
      "397    USA\n",
      "Name: origin, Length: 392, dtype: object\n"
     ]
    }
   ],
   "source": [
    "df['origin'] = df['origin'].astype('str')\n",
    "print(df['origin'].dtypes)\n",
    "print(df['origin'])"
   ]
  },
  {
   "cell_type": "code",
   "execution_count": 33,
   "id": "c529cb0f",
   "metadata": {},
   "outputs": [
    {
     "name": "stdout",
     "output_type": "stream",
     "text": [
      "[257 103  32]\n",
      "[ 46.         107.33333333 168.66666667 230.        ]\n",
      "46.0\n",
      "230.0\n"
     ]
    }
   ],
   "source": [
    "count, bin_dividers = np.histogram(\n",
    "            df['horsepower'], bins=3)\n",
    "print(count)\n",
    "print(bin_dividers)\n",
    "print(df['horsepower'].min())\n",
    "print(df['horsepower'].max())"
   ]
  },
  {
   "cell_type": "code",
   "execution_count": 34,
   "id": "89e8684e",
   "metadata": {},
   "outputs": [
    {
     "name": "stdout",
     "output_type": "stream",
     "text": [
      "    horsepower hp_bin\n",
      "0        130.0   중간출력\n",
      "1        165.0   중간출력\n",
      "2        150.0   중간출력\n",
      "3        150.0   중간출력\n",
      "4        140.0   중간출력\n",
      "5        198.0    고출력\n",
      "6        220.0    고출력\n",
      "7        215.0    고출력\n",
      "8        225.0    고출력\n",
      "9        190.0    고출력\n",
      "10       170.0    고출력\n",
      "11       160.0   중간출력\n",
      "12       150.0   중간출력\n",
      "13       225.0    고출력\n",
      "14        95.0    저출력\n",
      "15        95.0    저출력\n",
      "16        97.0    저출력\n",
      "17        85.0    저출력\n",
      "18        88.0    저출력\n",
      "19        46.0    저출력\n",
      "category\n"
     ]
    }
   ],
   "source": [
    "bin_names = ['저출력', '중간출력', '고출력']\n",
    "df['hp_bin'] = pd.cut(x=df['horsepower'],\n",
    "                     bins=bin_dividers,\n",
    "                     labels=bin_names,\n",
    "                     include_lowest=True)\n",
    "print(df[['horsepower','hp_bin']].head(20))\n",
    "print(df['hp_bin'].dtypes)"
   ]
  },
  {
   "cell_type": "code",
   "execution_count": 35,
   "id": "4c5c3e0b",
   "metadata": {},
   "outputs": [],
   "source": [
    "label_encoder = preprocessing.LabelEncoder()\n",
    "onehot_encoder = preprocessing.OneHotEncoder()"
   ]
  },
  {
   "cell_type": "code",
   "execution_count": 36,
   "id": "847de3ad",
   "metadata": {},
   "outputs": [
    {
     "name": "stdout",
     "output_type": "stream",
     "text": [
      "[2 2 2 2 2 0 0 0 0 0 0 2 2 0 1]\n",
      "<class 'numpy.ndarray'>\n",
      "(15,)\n"
     ]
    }
   ],
   "source": [
    "onehot_labeled = label_encoder.fit_transform(\n",
    "    df['hp_bin'].head(15))\n",
    "print(onehot_labeled)\n",
    "print(type(onehot_labeled))\n",
    "print(onehot_labeled.shape)"
   ]
  },
  {
   "cell_type": "code",
   "execution_count": 37,
   "id": "8c541955",
   "metadata": {},
   "outputs": [
    {
     "name": "stdout",
     "output_type": "stream",
     "text": [
      "[[2]\n",
      " [2]\n",
      " [2]\n",
      " [2]\n",
      " [2]\n",
      " [0]\n",
      " [0]\n",
      " [0]\n",
      " [0]\n",
      " [0]\n",
      " [0]\n",
      " [2]\n",
      " [2]\n",
      " [0]\n",
      " [1]]\n",
      "<class 'numpy.ndarray'>\n",
      "(15, 1)\n"
     ]
    }
   ],
   "source": [
    "onehot_reshaped = onehot_labeled.reshape(-1,1)\n",
    "print(onehot_reshaped)\n",
    "print(type(onehot_reshaped))\n",
    "print(onehot_reshaped.shape)"
   ]
  },
  {
   "cell_type": "code",
   "execution_count": 38,
   "id": "f26facf0",
   "metadata": {},
   "outputs": [
    {
     "name": "stdout",
     "output_type": "stream",
     "text": [
      "  (0, 2)\t1.0\n",
      "  (1, 2)\t1.0\n",
      "  (2, 2)\t1.0\n",
      "  (3, 2)\t1.0\n",
      "  (4, 2)\t1.0\n",
      "  (5, 0)\t1.0\n",
      "  (6, 0)\t1.0\n",
      "  (7, 0)\t1.0\n",
      "  (8, 0)\t1.0\n",
      "  (9, 0)\t1.0\n",
      "  (10, 0)\t1.0\n",
      "  (11, 2)\t1.0\n",
      "  (12, 2)\t1.0\n",
      "  (13, 0)\t1.0\n",
      "  (14, 1)\t1.0\n"
     ]
    }
   ],
   "source": [
    "onehot_fitted = onehot_encoder.fit_transform(\n",
    "    onehot_reshaped)\n",
    "print(onehot_fitted)"
   ]
  },
  {
   "cell_type": "code",
   "execution_count": 44,
   "id": "5cb9ccf6",
   "metadata": {},
   "outputs": [
    {
     "name": "stdout",
     "output_type": "stream",
     "text": [
      "4\n",
      "8\n",
      "[0 1 2 3 4]\n",
      "[0.   0.25 0.5  0.75 1.  ]\n"
     ]
    }
   ],
   "source": [
    "data = np.array([4,5,6,7,8])\n",
    "df_data = pd.DataFrame(data)\n",
    "min_value = df_data.min()[0]\n",
    "max_value = df_data.max()[0]\n",
    "print(min_value)\n",
    "print(max_value)\n",
    "scaled_data = data - min_value\n",
    "print(scaled_data)\n",
    "scaled_data = (data - min_value) / (max_value - min_value)\n",
    "print(scaled_data)"
   ]
  },
  {
   "cell_type": "code",
   "execution_count": 56,
   "id": "287ed9d4",
   "metadata": {},
   "outputs": [],
   "source": [
    "from sklearn.preprocessing import MinMaxScaler, Normalizer, StandardScaler\n",
    "from sklearn.preprocessing import *"
   ]
  },
  {
   "cell_type": "code",
   "execution_count": 55,
   "id": "95eecc00",
   "metadata": {},
   "outputs": [
    {
     "name": "stdout",
     "output_type": "stream",
     "text": [
      "[[0.  ]\n",
      " [0.25]\n",
      " [0.5 ]\n",
      " [0.75]\n",
      " [1.  ]]\n"
     ]
    }
   ],
   "source": [
    "minmaxscaler = MinMaxScaler()\n",
    "minmaxscaled_data = minmaxscaler.fit_transform(\n",
    "    data.reshape(-1,1))  \n",
    "print(minmaxscaled_data)"
   ]
  },
  {
   "cell_type": "code",
   "execution_count": 50,
   "id": "9d4fca95",
   "metadata": {},
   "outputs": [
    {
     "name": "stdout",
     "output_type": "stream",
     "text": [
      "count    392.000000\n",
      "mean     104.469388\n",
      "std       38.491160\n",
      "min       46.000000\n",
      "25%       75.000000\n",
      "50%       93.500000\n",
      "75%      126.000000\n",
      "max      230.000000\n",
      "Name: horsepower, dtype: float64\n"
     ]
    }
   ],
   "source": [
    "print(df.horsepower.describe())"
   ]
  },
  {
   "cell_type": "code",
   "execution_count": 51,
   "id": "5ea8a0b2",
   "metadata": {},
   "outputs": [
    {
     "name": "stdout",
     "output_type": "stream",
     "text": [
      "count    392.000000\n",
      "mean      58.469388\n",
      "std       38.491160\n",
      "min        0.000000\n",
      "25%       29.000000\n",
      "50%       47.500000\n",
      "75%       80.000000\n",
      "max      184.000000\n",
      "Name: horsepower, dtype: float64\n"
     ]
    }
   ],
   "source": [
    "min_0 = df.horsepower - df.horsepower.min()\n",
    "print(min_0.describe())"
   ]
  },
  {
   "cell_type": "code",
   "execution_count": 53,
   "id": "f5f4881e",
   "metadata": {},
   "outputs": [
    {
     "name": "stdout",
     "output_type": "stream",
     "text": [
      "count    392.000000\n",
      "mean       0.317768\n",
      "std        0.209191\n",
      "min        0.000000\n",
      "25%        0.157609\n",
      "50%        0.258152\n",
      "75%        0.434783\n",
      "max        1.000000\n",
      "Name: horsepower, dtype: float64\n",
      "0    0.456522\n",
      "1    0.646739\n",
      "2    0.565217\n",
      "3    0.565217\n",
      "4    0.510870\n",
      "Name: horsepower, dtype: float64\n"
     ]
    }
   ],
   "source": [
    "horsepower_minmaxscaled = min_0 / min_0.max()\n",
    "print(horsepower_minmaxscaled.describe())\n",
    "print(horsepower_minmaxscaled.head())"
   ]
  },
  {
   "cell_type": "code",
   "execution_count": null,
   "id": "cacb6bac",
   "metadata": {},
   "outputs": [],
   "source": []
  },
  {
   "cell_type": "code",
   "execution_count": null,
   "id": "cc9901c4",
   "metadata": {},
   "outputs": [],
   "source": []
  },
  {
   "cell_type": "code",
   "execution_count": null,
   "id": "f881d491",
   "metadata": {},
   "outputs": [],
   "source": []
  },
  {
   "cell_type": "code",
   "execution_count": null,
   "id": "21a7d625",
   "metadata": {},
   "outputs": [],
   "source": []
  },
  {
   "cell_type": "code",
   "execution_count": null,
   "id": "cd3ddd1d",
   "metadata": {},
   "outputs": [],
   "source": []
  }
 ],
 "metadata": {
  "kernelspec": {
   "display_name": "Python 3 (ipykernel)",
   "language": "python",
   "name": "python3"
  },
  "language_info": {
   "codemirror_mode": {
    "name": "ipython",
    "version": 3
   },
   "file_extension": ".py",
   "mimetype": "text/x-python",
   "name": "python",
   "nbconvert_exporter": "python",
   "pygments_lexer": "ipython3",
   "version": "3.7.11"
  }
 },
 "nbformat": 4,
 "nbformat_minor": 5
}
